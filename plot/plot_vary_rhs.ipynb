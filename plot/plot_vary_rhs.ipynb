{
 "cells": [
  {
   "cell_type": "code",
   "execution_count": null,
   "metadata": {},
   "outputs": [],
   "source": [
    "import pandas as pd\n",
    "import json\n",
    "import matplotlib.pyplot as plt\n",
    "import quantiphy\n",
    "import seaborn as sb\n",
    "\n",
    "import nest_asyncio\n",
    "nest_asyncio.apply()\n",
    "\n",
    "%matplotlib inline\n",
    "%run util.ipynb\n",
    "%run exp_plot.ipynb"
   ]
  },
  {
   "cell_type": "code",
   "execution_count": null,
   "metadata": {
    "scrolled": true
   },
   "outputs": [],
   "source": [
    "output_list = []\n",
    "target_alg_list = ['RSS-C', 'RSS-P', 'RSS-CP', 'RSS-CL', 'RSS-PL', 'RSS-CPL']\n",
    "with open('exp_vary_rhs.txt') as f:\n",
    "    for line in f:\n",
    "        token_list = line.strip().split('\\t')\n",
    "        row = {k:v for k,v in map(lambda x:x.split(':',1), token_list)}\n",
    "        dict_param = {k:v for k,v in map(lambda x:x.split(':',1), row['Param'][1:-3].split(', '))}\n",
    "        output = {}\n",
    "        output['theta'] = float(dict_param['theta'])\n",
    "        output['alg'] = get_setting_label_PrefixSearch(dict_param)\n",
    "        if output['alg'] not in target_alg_list: continue\n",
    "        output['data_name'] = row['Dataset_Name']\n",
    "        output['Num_QS_Result'] = int(row['Num_QS_Result'])\n",
    "        output['Num_TS_Result'] = int(row['Num_TS_Result'])\n",
    "        output['Num_Result'] = int(row['Num_Result'])        \n",
    "        output['len_rhs'] = int(row['Dataset_Name'].split('_')[7][1:])\n",
    "        for key in ['Num_QS_Result', 'Num_TS_Result', 'Num_Result', 'Num_QS_Verified', 'Num_TS_Verified', ]:\n",
    "            output[key] = int(row[key])\n",
    "        for key in ['Time_Total', 'Time_QS_Total', 'Time_TS_Total', 'Time_QS_IndexFilter', 'Time_TS_IndexFilter', 'Time_SearchPerQuery_MEAN']:\n",
    "            output[key] = float(row[key])/1000\n",
    "        output['Time_TS_MEAN'] = output['Time_TS_Total']/100\n",
    "        output_list.append(output)\n",
    "df = pd.DataFrame.from_dict(output_list)\n",
    "df = df[df.theta==0.7].groupby(by=['alg', 'len_rhs'], as_index=False).mean()\n",
    "df.alg = pd.Categorical(df.alg, categories=target_alg_list, ordered=True)\n",
    "df = df.sort_values(by=['alg', 'len_rhs'])\n",
    "df"
   ]
  },
  {
   "cell_type": "code",
   "execution_count": null,
   "metadata": {},
   "outputs": [],
   "source": [
    "plt.subplots(nrows=1, ncols=5, figsize=[25,5])\n",
    "plt.subplot(151); ax = sb.lineplot(x='len_rhs', y='Time_SearchPerQuery_MEAN', data=df, hue='alg')\n",
    "# plt.subplot(152); ax = sb.lineplot(x='len_rhs', y='Time_QS_Total', data=df, hue='alg')\n",
    "# plt.subplot(153); ax = sb.lineplot(x='len_rhs', y='Time_TS_Total', data=df, hue='alg')\n",
    "plt.subplot(154); ax = sb.lineplot(x='len_rhs', y='Time_TS_MEAN', data=df, hue='alg')\n",
    "plt.subplot(155); ax = sb.lineplot(x='len_rhs', y='Num_TS_Verified', data=df, hue='alg')"
   ]
  },
  {
   "cell_type": "code",
   "execution_count": null,
   "metadata": {},
   "outputs": [],
   "source": [
    "print('RSS-C is faster than RSS-P by:', np.array(df[df.alg=='RSS-P']['Time_TS_MEAN'])/np.array(df[df.alg=='RSS-C']['Time_TS_MEAN']))\n",
    "print('RSS-CP is faster than RSS-C by:', np.array(df[df.alg=='RSS-C']['Time_TS_MEAN'])/np.array(df[df.alg=='RSS-CP']['Time_TS_MEAN']))\n",
    "print('RSS-P prunes more than RSS-C by:', np.array(df[df.alg=='RSS-C']['Num_TS_Verified'])/np.array(df[df.alg=='RSS-P']['Num_TS_Verified']))\n",
    "print('RSS-CP prunes more than RSS-P by:', np.array(df[df.alg=='RSS-P']['Num_TS_Verified'])/np.array(df[df.alg=='RSS-CP']['Num_TS_Verified']))"
   ]
  },
  {
   "cell_type": "code",
   "execution_count": null,
   "metadata": {},
   "outputs": [],
   "source": [
    "class TimeByRhsPlotGenerator(PlotGenerator):\n",
    "\n",
    "    def __init__(self, data_info, theta, ymax_offset, y='Time_SearchPerQuery_MEAN', ylabel='Avg. exe. time \\(sec\\)'):\n",
    "        super(TimeByRhsPlotGenerator, self).__init__(data_info, theta, ymax_offset)\n",
    "        self.goal = 'time_by_rhs'\n",
    "        self.xlabel = 'RHS size'\n",
    "        self.xrange = '[1:5]'\n",
    "        self.xlog = False\n",
    "        self.ylog = False\n",
    "        self.y = y\n",
    "        self.ylabel = ylabel\n",
    "        self.tidx_offset = 1\n",
    "        \n",
    "    def load_df(self):\n",
    "        self.df = df\n",
    "    \n",
    "    def parse_row(self, row):\n",
    "        return '{}\\t{}\\n'.format(row.len_rhs, row.__getattribute__(self.y))\n",
    "    \n",
    "    def additional_settings(self, f):\n",
    "        f.write('set xtics 1,1,5\\n')\n",
    "        f.write('set yrange [0:{}]\\n'.format(5+self.ymax_offset))\n",
    "    \n",
    "    def write_result(self):\n",
    "        self.path_result = join('result', '{}.result'.format(self.output_name))\n",
    "        df = self.df\n",
    "        alg_list = list(df.alg.unique())\n",
    "        with open(self.path_result, 'w') as f:\n",
    "            for alg in alg_list:\n",
    "                f.write(\"# {}\\n\".format(alg))\n",
    "                df_target = df[df.alg==alg]\n",
    "                for row in df_target.itertuples():\n",
    "                    self.update_xmax(row)\n",
    "                    self.update_ymax(row)\n",
    "                    f.write(self.parse_row(row))\n",
    "                f.write('\\n\\n')\n",
    "                self.title_list.append(alg if df_target.size > 0 else None)"
   ]
  },
  {
   "cell_type": "code",
   "execution_count": null,
   "metadata": {},
   "outputs": [],
   "source": [
    "class NumByRhsPlotGenerator(TimeByRhsPlotGenerator):\n",
    "    \n",
    "    def __init__(self, data_info, theta, ymax_offset, y='Time_SearchPerQuery_MEAN', ylabel='Avg. exe. time \\(sec\\)'):\n",
    "        super(NumByRhsPlotGenerator, self).__init__(data_info, theta, ymax_offset, y, ylabel)\n",
    "        self.goal = \"{}_by_rhs\".format(y)\n",
    "\n",
    "    def parse_row(self, row):\n",
    "        return '{}\\t{}\\n'.format(row.len_rhs, row.__getattribute__(self.y)/1e7)\n",
    "    \n",
    "    def additional_settings(self, f):\n",
    "        f.write('set xtics 1,1,5\\n')\n",
    "        f.write('set yrange [0:{}]\\n'.format(2.1+self.ymax_offset))\n",
    "        f.write('set ytics 0,0.5,2\\n')"
   ]
  },
  {
   "cell_type": "code",
   "execution_count": null,
   "metadata": {},
   "outputs": [],
   "source": [
    "# DataInfo = collections.namedtuple('DataInfo', ['name', 'size', 'nr', 'qlen', 'lr', 'nar'])"
   ]
  },
  {
   "cell_type": "code",
   "execution_count": null,
   "metadata": {},
   "outputs": [],
   "source": [
    "# TimeByRhsPlotGenerator(DataInfo('SYN', '1000000', '100000', '5', '1.0', '-1'), 0, ymax_offset=-2.5).run()\n",
    "TimeByRhsPlotGenerator(DataInfo('SYN', '1000000', '100000', '5', '1.0', '-1'), 0, ymax_offset=1, y='Time_TS_MEAN').run()"
   ]
  },
  {
   "cell_type": "code",
   "execution_count": null,
   "metadata": {},
   "outputs": [],
   "source": [
    "# NumByRhsPlotGenerator(DataInfo('SYN', '1000000', '100000', '5', '1.0', '-1'), 0, ymax_offset=0, y='Num_QS_Verified', ylabel='# Verified Pairs (Query-side)').run()"
   ]
  },
  {
   "cell_type": "code",
   "execution_count": null,
   "metadata": {},
   "outputs": [],
   "source": [
    "# NumByRhsPlotGenerator(DataInfo('SYN', '1000000', '100000', '5', '1.0', '-1'), 0, ymax_offset=5, y='Num_TS_Verified', ylabel='# Verified Pairs').run()\n",
    "NumByRhsPlotGenerator(DataInfo('SYN', '1000000', '100000', '5', '1.0', '-1'), 0, ymax_offset=0.5, y='Num_TS_Verified', ylabel='# Verified Pairs (10^7)').run()"
   ]
  }
 ],
 "metadata": {
  "kernelspec": {
   "display_name": "ghsong_jupyter",
   "language": "python",
   "name": "ghsong_jupyter"
  },
  "language_info": {
   "codemirror_mode": {
    "name": "ipython",
    "version": 3
   },
   "file_extension": ".py",
   "mimetype": "text/x-python",
   "name": "python",
   "nbconvert_exporter": "python",
   "pygments_lexer": "ipython3",
   "version": "3.8.3"
  }
 },
 "nbformat": 4,
 "nbformat_minor": 4
}
