{
 "cells": [
  {
   "cell_type": "code",
   "execution_count": null,
   "metadata": {},
   "outputs": [],
   "source": [
    "import os\n",
    "import seaborn as sb\n",
    "\n",
    "import warnings\n",
    "warnings.filterwarnings('ignore')\n",
    "%matplotlib inline\n",
    "%run util.ipynb\n",
    "pd.set_option('display.max_rows', 1000)\n",
    "pd.set_option('display.width', 1000)\n",
    "pd.set_option('display.max_colwidth', 200)"
   ]
  },
  {
   "cell_type": "code",
   "execution_count": null,
   "metadata": {},
   "outputs": [],
   "source": [
    "s= \"AMAZON-DOC_PkwiseSynSearch_theta:0.9,kmax:1_3162277_107836_3_1.0\"\n",
    "s_list = [s]\n",
    "l = list(map(lambda x:('_'.join(x[0:3]), (int(x[3]), int(x[4]), int(x[5]), float(x[6]), -float(x[2].split(',')[0].split(':')[1]))), map(lambda x:tuple(x.split('_')), s_list)))\n",
    "l"
   ]
  },
  {
   "cell_type": "code",
   "execution_count": null,
   "metadata": {},
   "outputs": [],
   "source": [
    "s = \"timeout -k 1 14400 java -Xmx8g -cp target/substring-syn-0.0.1-SNAPSHOT.jar snu.kdd.substring_syn.App -data WIKI-DOC -nt 10000 -nr 107836 -ql 1 -lr 1.0 -alg PkwiseSynSearch -param theta:0.6,kmax:1 && bash ./upload.sh || (touch MSG && scp -q MSG cherry-manage:/home/hadoop/ghsong/substring_syn/failed/WIKI-DOC_PkwiseSynSearch_theta:0.6,kmax:1_10000_107836_1_1.0 && rm MSG)\"\n",
    "tokens = s.split('&&')[0].split(' ')\n",
    "d = {}\n",
    "for i in range(len(tokens)):\n",
    "    if tokens[i].startswith('-'): d[tokens[i][1:]] = tokens[i+1]\n",
    "list(map(lambda x:x.split(':')[1], filter(lambda x:x.startswith('theta'), d['param'].split(','))))[0]"
   ]
  },
  {
   "cell_type": "code",
   "execution_count": null,
   "metadata": {},
   "outputs": [],
   "source": [
    "def invalidate_old_expitems():\n",
    "    query = \"\"\"\n",
    "        SELECT id, datetime(exp_date,'localtime') as date, dataset_id as did, algorithm_id as aid, parameter as param\n",
    "        FROM projectmanager_expitem\n",
    "        WHERE dataset_id>=429 AND invalid=0\n",
    "        \"\"\"\n",
    "    d = collections.defaultdict(set)\n",
    "    for row in execute_query(query):\n",
    "    #     print(row['id'], row['date'], row['did'], row['aid'], str2dict(row['param']))\n",
    "        key = (row['did'], row['aid'], tuple(sorted(str2dict(row['param']).items())))\n",
    "        d[key].add((row['date'], row['id']))\n",
    "    for key in d:\n",
    "        if len(d[key]) < 2: continue\n",
    "        vals = list(sorted(d[key], key=lambda x:x[0]))\n",
    "        for date, expid in vals[:-1]:\n",
    "            query = \"\"\"\n",
    "            UPDATE projectmanager_expitem\n",
    "            SET invalid=1\n",
    "            WHERE id=%d\n",
    "            \"\"\"\n",
    "            execute_query(query%expid)"
   ]
  },
  {
   "cell_type": "code",
   "execution_count": null,
   "metadata": {},
   "outputs": [],
   "source": [
    "invalidate_old_expitems()"
   ]
  },
  {
   "cell_type": "code",
   "execution_count": null,
   "metadata": {},
   "outputs": [],
   "source": [
    "def remove_all_expitem(aid):\n",
    "    query = \"\"\"\n",
    "        DELETE FROM projectmanager_expitem\n",
    "        WHERE algorithm_id=%s\n",
    "        \"\"\"%aid\n",
    "    execute_query(query)"
   ]
  },
  {
   "cell_type": "code",
   "execution_count": null,
   "metadata": {},
   "outputs": [],
   "source": [
    "def display_using_df(query):\n",
    "    df = pd.DataFrame(list(map(dict, execute_query(query))))\n",
    "    print(df)\n",
    "    return df"
   ]
  },
  {
   "cell_type": "code",
   "execution_count": null,
   "metadata": {},
   "outputs": [],
   "source": [
    "query = \"\"\"\n",
    "    SELECT *\n",
    "    FROM projectmanager_expitem\n",
    "    WHERE algorithm_id=56 and dataset_id=890\n",
    "\"\"\"\n",
    "display_using_df(query)"
   ]
  },
  {
   "cell_type": "code",
   "execution_count": null,
   "metadata": {},
   "outputs": [],
   "source": [
    "query = \"\"\"\n",
    "    UPDATE projectmanager_expitem\n",
    "    SET invalid=1\n",
    "    WHERE dataset_id=911\n",
    "\"\"\"\n",
    "display_using_df(query)"
   ]
  },
  {
   "cell_type": "code",
   "execution_count": null,
   "metadata": {},
   "outputs": [],
   "source": [
    "import re\n",
    "s = \"abcdcd\"\n",
    "m = re.search('b(cd)?', s)\n",
    "print(m)"
   ]
  },
  {
   "cell_type": "code",
   "execution_count": null,
   "metadata": {
    "scrolled": true
   },
   "outputs": [],
   "source": [
    "# query = \"\"\"\n",
    "#     SELECT *\n",
    "#     FROM projectmanager_expitem\n",
    "#     WHERE algorithm_id=47\n",
    "#         AND parameter LIKE '%\\\"bLF\\\": \\\"false\\\"%'\n",
    "#         AND parameter LIKE '%\\\"bPF\\\": \\\"false\\\"%'\n",
    "#         AND parameter LIKE '%\\\"index_impl\\\": \\\"None\\\"%'\n",
    "# \"\"\"\n",
    "# rows = list(execute_query(query))\n",
    "# for row in rows:\n",
    "#     new_result = row['result'].replace(\"\\\"Alg_Version\\\": \\\"6.30\\\"\", \"\\\"Alg_Version\\\": \\\"6.32\\\"\")\n",
    "#     query = f\"\"\"\n",
    "#         INSERT INTO projectmanager_expitem(project_id, server_id, algorithm_id, dataset_id, exp_date, upload_date, failed, invalid, parameter, result)\n",
    "#         VALUES({row['project_id']}, {row['server_id']}, {56}, {row['dataset_id']}, '{'2020-05-06 15:00:00'}', '{'2020-05-06 15:00:00'}', 0, 0, '{row['parameter']}', '{new_result}')\n",
    "#     \"\"\"\n",
    "#     execute_query(query)"
   ]
  }
 ],
 "metadata": {
  "kernelspec": {
   "display_name": "Python 3",
   "language": "python",
   "name": "python3"
  },
  "language_info": {
   "codemirror_mode": {
    "name": "ipython",
    "version": 3
   },
   "file_extension": ".py",
   "mimetype": "text/x-python",
   "name": "python",
   "nbconvert_exporter": "python",
   "pygments_lexer": "ipython3",
   "version": "3.7.1"
  }
 },
 "nbformat": 4,
 "nbformat_minor": 4
}
