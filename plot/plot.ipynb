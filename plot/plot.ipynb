{
 "cells": [
  {
   "cell_type": "code",
   "execution_count": null,
   "metadata": {},
   "outputs": [],
   "source": [
    "import matplotlib.pyplot as plt\n",
    "import pandas as pd\n",
    "import seaborn as sb\n",
    "%matplotlib inline\n",
    "%run util.ipynb"
   ]
  },
  {
   "cell_type": "code",
   "execution_count": null,
   "metadata": {},
   "outputs": [],
   "source": [
    "query_tmpl = 'SELECT exp_date, algorithm_id, dataset_id, parameter, result FROM projectManager_expitem WHERE project_id=1 {} ORDER BY -exp_date'"
   ]
  },
  {
   "cell_type": "code",
   "execution_count": null,
   "metadata": {},
   "outputs": [],
   "source": [
    "for row in execute_query(\"SELECT id, name, version FROM projectManager_algorithm WHERE project_id=1\"):\n",
    "    print(row)"
   ]
  },
  {
   "cell_type": "code",
   "execution_count": null,
   "metadata": {},
   "outputs": [],
   "source": [
    "for row in execute_query(\"SELECT id, name FROM projectManager_dataset WHERE project_id=1\"):\n",
    "    print(row)"
   ]
  },
  {
   "cell_type": "code",
   "execution_count": null,
   "metadata": {},
   "outputs": [],
   "source": [
    "with SQLiteContext() as cur:\n",
    "    cur.execute(\"SELECT * FROM projectManager_expitem WHERE project_id=1 ORDER BY -exp_date LIMIT 1\")\n",
    "    rows = cur.fetchall()\n",
    "    for row in rows: print(row)"
   ]
  },
  {
   "cell_type": "code",
   "execution_count": null,
   "metadata": {},
   "outputs": [],
   "source": [
    "dict_alg"
   ]
  },
  {
   "cell_type": "code",
   "execution_count": null,
   "metadata": {},
   "outputs": [],
   "source": [
    "plot_time_by_filtering(DataInfo('WIKI', '10000', '107836', '3'))"
   ]
  },
  {
   "cell_type": "code",
   "execution_count": null,
   "metadata": {},
   "outputs": [],
   "source": [
    "plot_time_by_filtering(DataInfo('WIKI', '100000', '107836', '3'))"
   ]
  },
  {
   "cell_type": "code",
   "execution_count": null,
   "metadata": {},
   "outputs": [],
   "source": [
    "plot_time_by_filtering(DataInfo('WIKI', '1000000', '107836', '3'))"
   ]
  },
  {
   "cell_type": "code",
   "execution_count": null,
   "metadata": {},
   "outputs": [],
   "source": [
    "plot_time_by_size(DataInfo('WIKI', '*', '107836', '3'))"
   ]
  },
  {
   "cell_type": "code",
   "execution_count": null,
   "metadata": {},
   "outputs": [],
   "source": [
    "plot_time_by_qlen(DataInfo('WIKI', '10000', '107836', '*'))"
   ]
  },
  {
   "cell_type": "code",
   "execution_count": null,
   "metadata": {},
   "outputs": [],
   "source": [
    "plot_time_by_qlen(DataInfo('WIKI', '10000', '107836', '*'), y='Num_Verified', ylabel='Num_Verified')"
   ]
  },
  {
   "cell_type": "code",
   "execution_count": null,
   "metadata": {},
   "outputs": [],
   "source": [
    "plot_time_by_qlen(DataInfo('WIKI', '10000', '107836', '*'), y='Time_IndexFilter', ylabel='Time_IndexFilter (s)')"
   ]
  },
  {
   "cell_type": "code",
   "execution_count": null,
   "metadata": {},
   "outputs": [],
   "source": [
    "plot_time_by_qlen(DataInfo('WIKI', '10000', '107836', '*'), y='Len_Retrieved', ylabel='Len_Retrieved')"
   ]
  },
  {
   "cell_type": "code",
   "execution_count": null,
   "metadata": {},
   "outputs": [],
   "source": [
    "plot_time_by_qlen(DataInfo('WIKI', '100000', '107836', '*'))"
   ]
  },
  {
   "cell_type": "code",
   "execution_count": null,
   "metadata": {},
   "outputs": [],
   "source": [
    "plot_time_by_nr(DataInfo('WIKI', '10000', '*', '3'))"
   ]
  },
  {
   "cell_type": "code",
   "execution_count": null,
   "metadata": {},
   "outputs": [],
   "source": [
    "plot_time_by_nr(DataInfo('WIKI', '100000', '*', '3'))"
   ]
  },
  {
   "cell_type": "code",
   "execution_count": null,
   "metadata": {},
   "outputs": [],
   "source": [
    "plot_time_by_nr(DataInfo('WIKI', '1000000', '*', '3'))"
   ]
  },
  {
   "cell_type": "code",
   "execution_count": null,
   "metadata": {},
   "outputs": [],
   "source": [
    "# g = sb.FacetGrid(df, col='theta', hue='setting', height=5)\n",
    "# g.map(plt.plot, 'n', 'Time_Total', marker='o')\n",
    "# g.set(xscale='log', yscale='log')\n",
    "# g.add_legend()\n",
    "# g = sb.FacetGrid(df, col='theta', hue='setting', height=5)\n",
    "# g.map(plt.plot, 'n', 'Time_SearchPerQuery_MEAN', marker='o')\n",
    "# g.set(xscale='log', yscale='log')\n",
    "# g.add_legend()"
   ]
  },
  {
   "cell_type": "code",
   "execution_count": null,
   "metadata": {},
   "outputs": [],
   "source": [
    "df_merged = compare_alg('PrefixSearch_4.12', 'PrefixSearch_5.00')"
   ]
  },
  {
   "cell_type": "code",
   "execution_count": null,
   "metadata": {},
   "outputs": [],
   "source": [
    "df_merged = compare_alg('PrefixSearch_5.00', 'PrefixSearch_5.04')"
   ]
  },
  {
   "cell_type": "code",
   "execution_count": null,
   "metadata": {},
   "outputs": [],
   "source": [
    "df_merged = compare_alg('PrefixSearch_5.04', 'PrefixSearch_6.02')"
   ]
  },
  {
   "cell_type": "code",
   "execution_count": null,
   "metadata": {},
   "outputs": [],
   "source": [
    "df_merged = compare_alg('PrefixSearch_6.02', 'PrefixSearch_6.04')"
   ]
  },
  {
   "cell_type": "code",
   "execution_count": null,
   "metadata": {},
   "outputs": [],
   "source": [
    "df_merged = compare_alg('PrefixSearch_6.05', 'PrefixSearch_6.06')"
   ]
  },
  {
   "cell_type": "code",
   "execution_count": null,
   "metadata": {},
   "outputs": [],
   "source": [
    "df_merged = compare_alg('PrefixSearch_6.06', 'PrefixSearch_6.07')"
   ]
  },
  {
   "cell_type": "code",
   "execution_count": null,
   "metadata": {},
   "outputs": [],
   "source": [
    "df_merged = compare_alg('PrefixSearch_6.07', 'PrefixSearch_6.08')"
   ]
  },
  {
   "cell_type": "code",
   "execution_count": null,
   "metadata": {},
   "outputs": [],
   "source": [
    "df_merged = compare_alg('PrefixSearch_6.09', 'PrefixSearch_6.11')"
   ]
  },
  {
   "cell_type": "code",
   "execution_count": null,
   "metadata": {},
   "outputs": [],
   "source": [
    "df_merged = compare_alg('PrefixSearch_6.11', 'PrefixSearch_6.16')"
   ]
  },
  {
   "cell_type": "code",
   "execution_count": null,
   "metadata": {},
   "outputs": [],
   "source": [
    "df_merged = compare_alg('PrefixSearch_6.16', 'PrefixSearch_6.17')"
   ]
  },
  {
   "cell_type": "code",
   "execution_count": null,
   "metadata": {},
   "outputs": [],
   "source": [
    "df_merged[df_merged.diff_TS_Result>0].to_csv('./diff_TS_Result.csv')"
   ]
  },
  {
   "cell_type": "code",
   "execution_count": null,
   "metadata": {},
   "outputs": [],
   "source": [
    "df_merged[df_merged.diff_TS_Result>0]"
   ]
  },
  {
   "cell_type": "code",
   "execution_count": null,
   "metadata": {},
   "outputs": [],
   "source": [
    "pd.options.display.max_rows = 999\n",
    "df_merged = df_merged.sort_values(['size', 'theta'])\n",
    "df_merged[['setting', 'size', 'theta', 'Time_Total_0', 'Time_Total_1', 'diff_Time', 'Num_TS_Result_0', 'Num_TS_Result_1', 'diff_TS_Result']]"
   ]
  }
 ],
 "metadata": {
  "kernelspec": {
   "display_name": "Python 3",
   "language": "python",
   "name": "python3"
  },
  "language_info": {
   "codemirror_mode": {
    "name": "ipython",
    "version": 3
   },
   "file_extension": ".py",
   "mimetype": "text/x-python",
   "name": "python",
   "nbconvert_exporter": "python",
   "pygments_lexer": "ipython3",
   "version": "3.7.1"
  }
 },
 "nbformat": 4,
 "nbformat_minor": 2
}
