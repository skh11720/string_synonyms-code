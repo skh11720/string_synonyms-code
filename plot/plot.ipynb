{
 "cells": [
  {
   "cell_type": "code",
   "execution_count": null,
   "metadata": {},
   "outputs": [],
   "source": [
    "%matplotlib inline\n",
    "%run util.ipynb\n",
    "%run exp_plot.ipynb\n",
    "\n",
    "import warnings\n",
    "warnings.filterwarnings('ignore')"
   ]
  },
  {
   "cell_type": "code",
   "execution_count": null,
   "metadata": {},
   "outputs": [],
   "source": [
    "plot_verify_by_filtering('0.7', '5')"
   ]
  },
  {
   "cell_type": "code",
   "execution_count": null,
   "metadata": {},
   "outputs": [],
   "source": [
    "plot_time_by_size(DataInfo('WIKI', '*', '107836', '3'))"
   ]
  },
  {
   "cell_type": "code",
   "execution_count": null,
   "metadata": {},
   "outputs": [],
   "source": [
    "plot_time_by_size(DataInfo('WIKI', '*', '107836', '5'))"
   ]
  },
  {
   "cell_type": "code",
   "execution_count": null,
   "metadata": {},
   "outputs": [],
   "source": [
    "plot_time_by_size(DataInfo('WIKI', '*', '107836', '7'))"
   ]
  },
  {
   "cell_type": "code",
   "execution_count": null,
   "metadata": {},
   "outputs": [],
   "source": [
    "plot_time_by_size(DataInfo('PUBMED', '*', '79011', '3'))"
   ]
  },
  {
   "cell_type": "code",
   "execution_count": null,
   "metadata": {},
   "outputs": [],
   "source": [
    "plot_time_by_size(DataInfo('PUBMED', '*', '79011', '5'))"
   ]
  },
  {
   "cell_type": "code",
   "execution_count": null,
   "metadata": {},
   "outputs": [],
   "source": [
    "plot_time_by_size(DataInfo('AMAZON', '*', '107836', '3'))"
   ]
  },
  {
   "cell_type": "code",
   "execution_count": null,
   "metadata": {},
   "outputs": [],
   "source": [
    "plot_time_by_size(DataInfo('AMAZON', '*', '107836', '5'))"
   ]
  },
  {
   "cell_type": "code",
   "execution_count": null,
   "metadata": {},
   "outputs": [],
   "source": [
    "plot_time_by_qlen(DataInfo('WIKI', '10000', '107836', '*'), y='Time_QS_Total', ylabel='Time_QS_Total')"
   ]
  },
  {
   "cell_type": "code",
   "execution_count": null,
   "metadata": {},
   "outputs": [],
   "source": [
    "plot_time_by_qlen(DataInfo('WIKI', '10000', '107836', '*'), y='Time_TS_Total', ylabel='Time_TS_Total')"
   ]
  },
  {
   "cell_type": "code",
   "execution_count": null,
   "metadata": {},
   "outputs": [],
   "source": [
    "plot_time_by_qlen(DataInfo('WIKI', '10000', '107836', '*'), y='Num_QS_Verified', ylabel='Num_QS_Verified')"
   ]
  },
  {
   "cell_type": "code",
   "execution_count": null,
   "metadata": {},
   "outputs": [],
   "source": [
    "plot_time_by_qlen(DataInfo('WIKI', '10000', '107836', '*'), y='Num_TS_Verified', ylabel='Num_TS_Verified')"
   ]
  },
  {
   "cell_type": "code",
   "execution_count": null,
   "metadata": {},
   "outputs": [],
   "source": [
    "plot_time_by_qlen(DataInfo('WIKI', '316227', '107836', '*'))"
   ]
  },
  {
   "cell_type": "code",
   "execution_count": null,
   "metadata": {},
   "outputs": [],
   "source": [
    "plot_time_by_qlen(DataInfo('WIKI', '100000', '107836', '*'), y='Time_IndexFilter', ylabel='Time_IndexFilter (s)')"
   ]
  },
  {
   "cell_type": "code",
   "execution_count": null,
   "metadata": {},
   "outputs": [],
   "source": [
    "plot_time_by_qlen(DataInfo('WIKI', '100000', '107836', '*'), y='Time_Validation', ylabel='Time_Validation (s)')"
   ]
  },
  {
   "cell_type": "code",
   "execution_count": null,
   "metadata": {},
   "outputs": [],
   "source": [
    "plot_time_by_qlen(DataInfo('WIKI', '100000', '107836', '*'), y='Num_Verified', ylabel='Num_Verified')"
   ]
  },
  {
   "cell_type": "code",
   "execution_count": null,
   "metadata": {},
   "outputs": [],
   "source": [
    "plot_time_by_qlen(DataInfo('PUBMED', '316227', '79011', '*'))"
   ]
  },
  {
   "cell_type": "code",
   "execution_count": null,
   "metadata": {},
   "outputs": [],
   "source": [
    "plot_time_by_qlen(DataInfo('PUBMED', '100000', '79011', '*'), y=\"Time_QS_Total\", ylabel=\"Time_QS_Total\")"
   ]
  },
  {
   "cell_type": "code",
   "execution_count": null,
   "metadata": {},
   "outputs": [],
   "source": [
    "plot_time_by_qlen(DataInfo('PUBMED', '100000', '79011', '*'), y=\"Time_TS_Total\", ylabel=\"Time_TS_Total\")"
   ]
  },
  {
   "cell_type": "code",
   "execution_count": null,
   "metadata": {},
   "outputs": [],
   "source": [
    "plot_time_by_qlen(DataInfo('PUBMED', '10000', '79011', '*'), y=\"Num_QS_Verified\", ylabel=\"Num_QS_Verified\")"
   ]
  },
  {
   "cell_type": "code",
   "execution_count": null,
   "metadata": {},
   "outputs": [],
   "source": [
    "plot_time_by_qlen(DataInfo('PUBMED', '10000', '79011', '*'), y=\"Num_TS_Verified\", ylabel=\"Num_TS_Verified\")"
   ]
  },
  {
   "cell_type": "code",
   "execution_count": null,
   "metadata": {},
   "outputs": [],
   "source": [
    "plot_time_by_qlen(DataInfo('PUBMED', '100000', '79011', '*'))"
   ]
  },
  {
   "cell_type": "code",
   "execution_count": null,
   "metadata": {},
   "outputs": [],
   "source": [
    "plot_time_by_qlen(DataInfo('PUBMED', '10000', '79011', '*'), y='Num_Verified', ylabel='Num_Verified')"
   ]
  },
  {
   "cell_type": "code",
   "execution_count": null,
   "metadata": {},
   "outputs": [],
   "source": [
    "plot_time_by_qlen(DataInfo('PUBMED', '100000', '79011', '*'), y='Time_IndexFilter', ylabel='Time_IndexFilter (s)')"
   ]
  },
  {
   "cell_type": "code",
   "execution_count": null,
   "metadata": {},
   "outputs": [],
   "source": [
    "plot_time_by_qlen(DataInfo('PUBMED', '100000', '79011', '*'), y='Time_Validation', ylabel='Time_Validation')"
   ]
  },
  {
   "cell_type": "code",
   "execution_count": null,
   "metadata": {},
   "outputs": [],
   "source": [
    "plot_time_by_qlen(DataInfo('PUBMED', '100000', '79011', '*'), y='Num_Verified', ylabel='Num_Verified')"
   ]
  },
  {
   "cell_type": "code",
   "execution_count": null,
   "metadata": {},
   "outputs": [],
   "source": [
    "plot_time_by_qlen(DataInfo('PUBMED', '100000', '79011', '*'), y='Num_Result', ylabel='Num_Result')"
   ]
  },
  {
   "cell_type": "code",
   "execution_count": null,
   "metadata": {},
   "outputs": [],
   "source": [
    "plot_time_by_qlen(DataInfo('AMAZON', '10000', '107836', '*'))"
   ]
  },
  {
   "cell_type": "code",
   "execution_count": null,
   "metadata": {},
   "outputs": [],
   "source": [
    "plot_time_by_nr(DataInfo('WIKI', '100000', '*', '3'))"
   ]
  },
  {
   "cell_type": "code",
   "execution_count": null,
   "metadata": {},
   "outputs": [],
   "source": [
    "plot_time_by_nr(DataInfo('WIKI', '316227', '*', '5'))"
   ]
  },
  {
   "cell_type": "code",
   "execution_count": null,
   "metadata": {},
   "outputs": [],
   "source": [
    "plot_time_by_nr(DataInfo('PUBMED', '100000', '*', '3'))"
   ]
  },
  {
   "cell_type": "code",
   "execution_count": null,
   "metadata": {},
   "outputs": [],
   "source": [
    "plot_time_by_nr(DataInfo('PUBMED', '316227', '*', '5'))"
   ]
  },
  {
   "cell_type": "code",
   "execution_count": null,
   "metadata": {},
   "outputs": [],
   "source": [
    "plot_time_by_nr(DataInfo('AMAZON', '100000', '*', '3'))"
   ]
  },
  {
   "cell_type": "code",
   "execution_count": null,
   "metadata": {},
   "outputs": [],
   "source": [
    "plot_time_by_nr(DataInfo('AMAZON', '316227', '*', '5'))"
   ]
  },
  {
   "cell_type": "code",
   "execution_count": null,
   "metadata": {},
   "outputs": [],
   "source": [
    "# g = sb.FacetGrid(df, col='theta', hue='setting', height=5)\n",
    "# g.map(plt.plot, 'n', 'Time_Total', marker='o')\n",
    "# g.set(xscale='log', yscale='log')\n",
    "# g.add_legend()\n",
    "# g = sb.FacetGrid(df, col='theta', hue='setting', height=5)\n",
    "# g.map(plt.plot, 'n', 'Time_SearchPerQuery_MEAN', marker='o')\n",
    "# g.set(xscale='log', yscale='log')\n",
    "# g.add_legend()"
   ]
  },
  {
   "cell_type": "code",
   "execution_count": null,
   "metadata": {},
   "outputs": [],
   "source": [
    "diff = compare_alg('PrefixSearch_6.19', 'PrefixSearch_6.20')"
   ]
  },
  {
   "cell_type": "code",
   "execution_count": null,
   "metadata": {},
   "outputs": [],
   "source": [
    "def plot_scale():\n",
    "    data_info_list = [\n",
    "        DataInfo('WIKI', '*', '107836', '5'),\n",
    "        DataInfo('WIKI', '100000', '107836', '*'),\n",
    "        DataInfo('WIKI', '100000', '*', '5'),\n",
    "        \n",
    "        DataInfo('PUBMED', '*', '79011', '5'),\n",
    "        DataInfo('PUBMED', '100000', '79011', '*'),\n",
    "        DataInfo('PUBMED', '100000', '*', '5'),\n",
    "        \n",
    "        DataInfo('AMAZON', '*', '107836', '5'),\n",
    "        DataInfo('AMAZON', '100000', '107836', '*'),\n",
    "        DataInfo('AMAZON', '100000', '*', '5'),\n",
    "    ]\n",
    "    theta_list = [0.7, 0.8, 0.9, 1.0]\n",
    "    for data_info, theta in itertools.product(data_info_list, theta_list):\n",
    "        print(data_info, theta)\n",
    "        PlotGenerator.execute(data_info, theta) "
   ]
  },
  {
   "cell_type": "code",
   "execution_count": null,
   "metadata": {},
   "outputs": [],
   "source": [
    "def plot_verify():\n",
    "    data_info_list = [\n",
    "        DataInfo('WIKI', '100000', '107836', '5'),\n",
    "        DataInfo('PUBMED', '100000', '79011', '5'),\n",
    "        DataInfo('AMAZON', '100000', '107836', '5'),        \n",
    "    ]\n",
    "    theta_list = [0.7, 0.8, 0.9, 1.0]\n",
    "    for data_info, theta in itertools.product(data_info_list, theta_list):\n",
    "        print(data_info, theta)\n",
    "        plot_verify_by_alg(data_info, theta)"
   ]
  },
  {
   "cell_type": "code",
   "execution_count": null,
   "metadata": {},
   "outputs": [],
   "source": [
    "def plot_filter_time():\n",
    "    data_info_list = [\n",
    "        DataInfo('WIKI', '100000', '107836', '5'),\n",
    "        DataInfo('PUBMED', '100000', '79011', '5'),\n",
    "        DataInfo('AMAZON', '100000', '107836', '5'),        \n",
    "    ]\n",
    "    theta_list = [0.7, 0.8, 0.9, 1.0]\n",
    "    for data_info, theta in itertools.product(data_info_list, theta_list):\n",
    "        print(data_info, theta)\n",
    "        plot_filter_time_by_alg(data_info, theta)"
   ]
  },
  {
   "cell_type": "code",
   "execution_count": null,
   "metadata": {},
   "outputs": [],
   "source": [
    "def plot_vary_theta():\n",
    "    data_info_list = [\n",
    "        DataInfo('WIKI', '100000', '107836', '5'),\n",
    "        DataInfo('PUBMED', '100000', '79011', '5'),\n",
    "        DataInfo('AMAZON', '100000', '107836', '5'),        \n",
    "    ]\n",
    "    for data_info in data_info_list:\n",
    "        print(data_info)\n",
    "        TimeByThetaPlotGenerator(data_info, 0).run()"
   ]
  },
  {
   "cell_type": "code",
   "execution_count": null,
   "metadata": {},
   "outputs": [],
   "source": [
    "plot_verify()"
   ]
  },
  {
   "cell_type": "code",
   "execution_count": null,
   "metadata": {},
   "outputs": [],
   "source": [
    "plot_filter_time()"
   ]
  },
  {
   "cell_type": "code",
   "execution_count": null,
   "metadata": {},
   "outputs": [],
   "source": [
    "plot_scale()"
   ]
  },
  {
   "cell_type": "code",
   "execution_count": null,
   "metadata": {},
   "outputs": [],
   "source": [
    "plot_vary_theta()"
   ]
  },
  {
   "cell_type": "code",
   "execution_count": null,
   "metadata": {},
   "outputs": [],
   "source": [
    "performance_comparison()"
   ]
  },
  {
   "cell_type": "code",
   "execution_count": null,
   "metadata": {},
   "outputs": [],
   "source": [
    "tex_heuristic_accuracy()"
   ]
  },
  {
   "cell_type": "code",
   "execution_count": null,
   "metadata": {},
   "outputs": [],
   "source": [
    "plot_index_build_time('nt')\n",
    "plot_index_build_time('nr')"
   ]
  }
 ],
 "metadata": {
  "kernelspec": {
   "display_name": "Python 3",
   "language": "python",
   "name": "python3"
  },
  "language_info": {
   "codemirror_mode": {
    "name": "ipython",
    "version": 3
   },
   "file_extension": ".py",
   "mimetype": "text/x-python",
   "name": "python",
   "nbconvert_exporter": "python",
   "pygments_lexer": "ipython3",
   "version": "3.7.1"
  }
 },
 "nbformat": 4,
 "nbformat_minor": 2
}
