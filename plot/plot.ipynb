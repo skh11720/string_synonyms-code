{
 "cells": [
  {
   "cell_type": "code",
   "execution_count": null,
   "metadata": {},
   "outputs": [],
   "source": [
    "%matplotlib inline\n",
    "%run util.ipynb\n",
    "%run exp_plot.ipynb\n",
    "\n",
    "from itertools import cycle\n",
    "import warnings\n",
    "warnings.filterwarnings('ignore')"
   ]
  },
  {
   "cell_type": "code",
   "execution_count": null,
   "metadata": {},
   "outputs": [],
   "source": [
    "tex_table_filter_power('Num_Verified')\n",
    "tex_table_filter_power('Time_SearchPerQuery_MEAN')"
   ]
  },
  {
   "cell_type": "markdown",
   "metadata": {},
   "source": [
    "### plot_time_by_size"
   ]
  },
  {
   "cell_type": "code",
   "execution_count": null,
   "metadata": {},
   "outputs": [],
   "source": [
    "plot_time_by_size(DataInfo('WIKI', '*', '107836', '5', '1.0'))"
   ]
  },
  {
   "cell_type": "code",
   "execution_count": null,
   "metadata": {},
   "outputs": [],
   "source": [
    "plot_time_by_size(DataInfo('PUBMED', '*', '79011', '5', '1.0'))"
   ]
  },
  {
   "cell_type": "code",
   "execution_count": null,
   "metadata": {},
   "outputs": [],
   "source": [
    "plot_time_by_size(DataInfo('AMAZON', '*', '107836', '5', '1.0'))"
   ]
  },
  {
   "cell_type": "code",
   "execution_count": null,
   "metadata": {},
   "outputs": [],
   "source": [
    "plot_time_by_size(DataInfo('WIKI-DOC', '*', '107836', '5', '1.0'))"
   ]
  },
  {
   "cell_type": "code",
   "execution_count": null,
   "metadata": {},
   "outputs": [],
   "source": [
    "plot_time_by_size(DataInfo('PUBMED-DOC', '*', '79011', '5', '1.0'))"
   ]
  },
  {
   "cell_type": "code",
   "execution_count": null,
   "metadata": {},
   "outputs": [],
   "source": [
    "plot_time_by_size(DataInfo('AMAZON-DOC', '*', '107836', '5', '1.0'))"
   ]
  },
  {
   "cell_type": "code",
   "execution_count": null,
   "metadata": {},
   "outputs": [],
   "source": [
    "plot_time_by_size(DataInfo('WIKI', '*', '107836', '5', '1.0'), alg_list=['NaiveContainmentSearch_1.00', 'ContainmentPrefixSearch_1.00'], setting_list=['LSS-JC-NAIVE', 'LSS-JC'])"
   ]
  },
  {
   "cell_type": "code",
   "execution_count": null,
   "metadata": {},
   "outputs": [],
   "source": [
    "plot_time_by_size(DataInfo('PUBMED', '*', '79011', '5', '1.0'), alg_list=['NaiveContainmentSearch_1.00', 'ContainmentPrefixSearch_1.00'], setting_list=['LSS-JC-NAIVE', 'LSS-JC'])"
   ]
  },
  {
   "cell_type": "code",
   "execution_count": null,
   "metadata": {},
   "outputs": [],
   "source": [
    "plot_time_by_size(DataInfo('AMAZON', '*', '107836', '5', '1.0'), alg_list=['NaiveContainmentSearch_1.00', 'ContainmentPrefixSearch_1.00'], setting_list=['LSS-JC-NAIVE', 'LSS-JC'])"
   ]
  },
  {
   "cell_type": "markdown",
   "metadata": {},
   "source": [
    "### plot_time_by_qlen"
   ]
  },
  {
   "cell_type": "code",
   "execution_count": null,
   "metadata": {},
   "outputs": [],
   "source": [
    "plot_time_by_qlen(DataInfo('WIKI', '100000', '107836', '*', '1.0'))"
   ]
  },
  {
   "cell_type": "code",
   "execution_count": null,
   "metadata": {},
   "outputs": [],
   "source": [
    "plot_time_by_qlen(DataInfo('PUBMED', '100000', '79011', '*', '1.0'))"
   ]
  },
  {
   "cell_type": "code",
   "execution_count": null,
   "metadata": {},
   "outputs": [],
   "source": [
    "plot_time_by_qlen(DataInfo('AMAZON', '100000', '107836', '*', '1.0'))"
   ]
  },
  {
   "cell_type": "code",
   "execution_count": null,
   "metadata": {},
   "outputs": [],
   "source": [
    "plot_time_by_qlen(DataInfo('WIKI-DOC', '100000', '107836', '*', '1.0'))"
   ]
  },
  {
   "cell_type": "code",
   "execution_count": null,
   "metadata": {},
   "outputs": [],
   "source": [
    "plot_time_by_qlen(DataInfo('PUBMED-DOC', '100000', '79011', '*', '1.0'))"
   ]
  },
  {
   "cell_type": "code",
   "execution_count": null,
   "metadata": {},
   "outputs": [],
   "source": [
    "plot_time_by_qlen(DataInfo('AMAZON-DOC', '100000', '107836', '*', '1.0'))"
   ]
  },
  {
   "cell_type": "markdown",
   "metadata": {},
   "source": [
    "### plot_time_by_nr"
   ]
  },
  {
   "cell_type": "code",
   "execution_count": null,
   "metadata": {},
   "outputs": [],
   "source": [
    "plot_time_by_nr(DataInfo('WIKI', '100000', '*', '5', '1.0'))"
   ]
  },
  {
   "cell_type": "code",
   "execution_count": null,
   "metadata": {},
   "outputs": [],
   "source": [
    "plot_time_by_nr(DataInfo('PUBMED', '100000', '*', '5', '1.0'))"
   ]
  },
  {
   "cell_type": "code",
   "execution_count": null,
   "metadata": {},
   "outputs": [],
   "source": [
    "plot_time_by_nr(DataInfo('AMAZON', '100000', '*', '5', '1.0'))"
   ]
  },
  {
   "cell_type": "markdown",
   "metadata": {},
   "source": [
    "### plot_time_by_lr"
   ]
  },
  {
   "cell_type": "code",
   "execution_count": null,
   "metadata": {},
   "outputs": [],
   "source": [
    "plot_time_by_lr(DataInfo('WIKI', '100000', '107836', '5', '*'))"
   ]
  },
  {
   "cell_type": "code",
   "execution_count": null,
   "metadata": {},
   "outputs": [],
   "source": [
    "plot_time_by_lr(DataInfo('PUBMED', '100000', '79011', '5', '*'))"
   ]
  },
  {
   "cell_type": "code",
   "execution_count": null,
   "metadata": {},
   "outputs": [],
   "source": [
    "plot_time_by_lr(DataInfo('AMAZON', '100000', '107836', '5', '*'))"
   ]
  },
  {
   "cell_type": "code",
   "execution_count": null,
   "metadata": {},
   "outputs": [],
   "source": [
    "# g = sb.FacetGrid(df, col='theta', hue='setting', height=5)\n",
    "# g.map(plt.plot, 'n', 'Time_Total', marker='o')\n",
    "# g.set(xscale='log', yscale='log')\n",
    "# g.add_legend()\n",
    "# g = sb.FacetGrid(df, col='theta', hue='setting', height=5)\n",
    "# g.map(plt.plot, 'n', 'Time_SearchPerQuery_MEAN', marker='o')\n",
    "# g.set(xscale='log', yscale='log')\n",
    "# g.add_legend()"
   ]
  },
  {
   "cell_type": "code",
   "execution_count": null,
   "metadata": {},
   "outputs": [],
   "source": [
    "diff = compare_alg('PrefixSearch_6.28', 'PrefixSearch_6.29')"
   ]
  },
  {
   "cell_type": "code",
   "execution_count": null,
   "metadata": {},
   "outputs": [],
   "source": [
    "diff = compare_alg('PrefixSearch_6.29', 'PrefixSearch_6.30')"
   ]
  },
  {
   "cell_type": "code",
   "execution_count": null,
   "metadata": {},
   "outputs": [],
   "source": [
    "def plot_scale():\n",
    "    data_info_list = [\n",
    "        DataInfo('WIKI', '*', '107836', '5', '1.0'),\n",
    "        DataInfo('WIKI', '100000', '107836', '*', '1.0'),\n",
    "        DataInfo('WIKI', '100000', '*', '5', '1.0'),\n",
    "        DataInfo('WIKI', '100000', '107836', '5', '*'),\n",
    "        \n",
    "        DataInfo('PUBMED', '*', '79011', '5', '1.0'),\n",
    "        DataInfo('PUBMED', '100000', '79011', '*', '1.0'),\n",
    "        DataInfo('PUBMED', '100000', '*', '5', '1.0'),\n",
    "        DataInfo('PUBMED', '100000', '79011', '5', '*'),\n",
    "        \n",
    "        DataInfo('AMAZON', '*', '107836', '5', '1.0'),\n",
    "        DataInfo('AMAZON', '100000', '107836', '*', '1.0'),\n",
    "        DataInfo('AMAZON', '100000', '*', '5', '1.0'),\n",
    "        DataInfo('AMAZON', '100000', '107836', '5', '*'),\n",
    "    ]\n",
    "    theta_list = [0.7, 0.8, 0.9, 1.0]\n",
    "    for data_info, theta in itertools.product(data_info_list, theta_list):\n",
    "        print(data_info, theta)\n",
    "        PlotGenerator.execute(data_info, theta) "
   ]
  },
  {
   "cell_type": "code",
   "execution_count": null,
   "metadata": {},
   "outputs": [],
   "source": [
    "def plot_scale2():\n",
    "    theta_list = [0.7, 0.8, 0.9, 1.0]\n",
    "    for theta in theta_list:\n",
    "        print(theta)\n",
    "        PlotGenerator.execute(DataInfo('WIKI', '*', '107836', '5', '1.0'), theta, ymax_offset=1)\n",
    "        PlotGenerator.execute(DataInfo('PUBMED', '*', '79011', '5', '1.0'), theta, ymax_offset=1)\n",
    "        PlotGenerator.execute(DataInfo('AMAZON', '*', '107836', '5', '1.0'), theta, ymax_offset=1)\n",
    "\n",
    "        PlotGenerator.execute(DataInfo('WIKI', '100000', '107836', '*', '1.0'), theta, ymax_offset=0)\n",
    "        PlotGenerator.execute(DataInfo('PUBMED', '100000', '79011', '*', '1.0'), theta, ymax_offset=1)\n",
    "        PlotGenerator.execute(DataInfo('AMAZON', '100000', '107836', '*', '1.0'), theta, ymax_offset=1)\n",
    "\n",
    "        PlotGenerator.execute(DataInfo('WIKI', '100000', '*', '5', '1.0'), theta, ymax_offset=0)\n",
    "        PlotGenerator.execute(DataInfo('PUBMED', '100000', '*', '5', '1.0'), theta, ymax_offset=2)\n",
    "        PlotGenerator.execute(DataInfo('AMAZON', '100000', '*', '5', '1.0'), theta, ymax_offset=1)\n",
    "\n",
    "        PlotGenerator.execute(DataInfo('WIKI', '100000', '107836', '5', '*'), theta, ymax_offset=1)\n",
    "        PlotGenerator.execute(DataInfo('PUBMED', '100000', '79011', '5', '*'), theta, ymax_offset=1)\n",
    "        PlotGenerator.execute(DataInfo('AMAZON', '100000', '107836', '5', '*'), theta, ymax_offset=1)\n",
    "    print('FINISHED')"
   ]
  },
  {
   "cell_type": "code",
   "execution_count": null,
   "metadata": {},
   "outputs": [],
   "source": [
    "def plot_containment():\n",
    "    theta = 0.7\n",
    "    alg_list=['NaiveContainmentSearch_1.00', 'ContainmentPrefixSearch_1.00']\n",
    "    setting_list = ['LSS-JC-NAIVE', 'LSS-JC']\n",
    "    goal='containment_time_by_size'\n",
    "\n",
    "    TimeBySizePlotGenerator(DataInfo('WIKI', '*', '107836', '5', '1.0'), theta, -1, alg_list, setting_list, goal).run()\n",
    "    TimeBySizePlotGenerator(DataInfo('PUBMED', '*', '79011', '5', '1.0'), theta, -1, alg_list, setting_list, goal).run()\n",
    "    TimeBySizePlotGenerator(DataInfo('AMAZON', '*', '107836', '5', '1.0'), theta, -1, alg_list, setting_list, goal).run()"
   ]
  },
  {
   "cell_type": "code",
   "execution_count": null,
   "metadata": {},
   "outputs": [],
   "source": [
    "def plot_doc():\n",
    "    theta = 0.7\n",
    "    TimeBySizePlotGenerator(DataInfo('WIKI-DOC', '*', '107836', '5', '1.0'), theta, 1).run()\n",
    "    TimeBySizePlotGenerator(DataInfo('PUBMED-DOC', '*', '79011', '5', '1.0'), theta, 1).run()\n",
    "    TimeBySizePlotGenerator(DataInfo('AMAZON-DOC', '*', '107836', '5', '1.0'), theta, 1).run()"
   ]
  },
  {
   "cell_type": "code",
   "execution_count": null,
   "metadata": {},
   "outputs": [],
   "source": [
    "def plot_verify():\n",
    "    data_info_list = [\n",
    "        DataInfo('WIKI', '100000', '107836', '5'),\n",
    "        DataInfo('PUBMED', '100000', '79011', '5'),\n",
    "        DataInfo('AMAZON', '100000', '107836', '5'),        \n",
    "    ]\n",
    "    theta_list = [0.7, 0.8, 0.9, 1.0]\n",
    "    for data_info, theta in itertools.product(data_info_list, theta_list):\n",
    "        print(data_info, theta)\n",
    "        plot_verify_by_alg(data_info, theta)"
   ]
  },
  {
   "cell_type": "code",
   "execution_count": null,
   "metadata": {},
   "outputs": [],
   "source": [
    "def plot_filter_time():\n",
    "    data_info_list = [\n",
    "        DataInfo('WIKI', '100000', '107836', '5'),\n",
    "        DataInfo('PUBMED', '100000', '79011', '5'),\n",
    "        DataInfo('AMAZON', '100000', '107836', '5'),        \n",
    "    ]\n",
    "    theta_list = [0.7, 0.8, 0.9, 1.0]\n",
    "    for data_info, theta in itertools.product(data_info_list, theta_list):\n",
    "        print(data_info, theta)\n",
    "        plot_filter_time_by_alg(data_info, theta)"
   ]
  },
  {
   "cell_type": "code",
   "execution_count": null,
   "metadata": {},
   "outputs": [],
   "source": [
    "def plot_vary_theta():\n",
    "    TimeByThetaPlotGenerator(DataInfo('WIKI', '100000', '107836', '5', '1.0'), 0, ymax_offset=0).run()\n",
    "    TimeByThetaPlotGenerator(DataInfo('PUBMED', '100000', '79011', '5', '1.0'), 0, ymax_offset=1).run()\n",
    "    TimeByThetaPlotGenerator(DataInfo('AMAZON', '100000', '107836', '5', '1.0'), 0, ymax_offset=0).run()"
   ]
  },
  {
   "cell_type": "code",
   "execution_count": null,
   "metadata": {},
   "outputs": [],
   "source": [
    "plot_scale2()"
   ]
  },
  {
   "cell_type": "code",
   "execution_count": null,
   "metadata": {},
   "outputs": [],
   "source": [
    "plot_doc()"
   ]
  },
  {
   "cell_type": "code",
   "execution_count": null,
   "metadata": {},
   "outputs": [],
   "source": [
    "plot_verify()"
   ]
  },
  {
   "cell_type": "code",
   "execution_count": null,
   "metadata": {},
   "outputs": [],
   "source": [
    "plot_filter_time()"
   ]
  },
  {
   "cell_type": "code",
   "execution_count": null,
   "metadata": {},
   "outputs": [],
   "source": [
    "plot_vary_theta()"
   ]
  },
  {
   "cell_type": "code",
   "execution_count": null,
   "metadata": {},
   "outputs": [],
   "source": [
    "performance_comparison()"
   ]
  },
  {
   "cell_type": "code",
   "execution_count": null,
   "metadata": {},
   "outputs": [],
   "source": [
    "tex_heuristic_accuracy()"
   ]
  },
  {
   "cell_type": "code",
   "execution_count": null,
   "metadata": {},
   "outputs": [],
   "source": [
    "plot_index_build_time('nt')w\n",
    "plot_index_build_time('nr')"
   ]
  },
  {
   "cell_type": "code",
   "execution_count": null,
   "metadata": {},
   "outputs": [],
   "source": []
  }
 ],
 "metadata": {
  "kernelspec": {
   "display_name": "Python 3",
   "language": "python",
   "name": "python3"
  },
  "language_info": {
   "codemirror_mode": {
    "name": "ipython",
    "version": 3
   },
   "file_extension": ".py",
   "mimetype": "text/x-python",
   "name": "python",
   "nbconvert_exporter": "python",
   "pygments_lexer": "ipython3",
   "version": "3.7.1"
  }
 },
 "nbformat": 4,
 "nbformat_minor": 2
}
