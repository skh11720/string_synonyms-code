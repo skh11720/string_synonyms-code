{
 "cells": [
  {
   "cell_type": "code",
   "execution_count": null,
   "metadata": {},
   "outputs": [],
   "source": [
    "%matplotlib inline\n",
    "%run util.ipynb\n",
    "%run exp_plot.ipynb\n",
    "\n",
    "import warnings\n",
    "warnings.filterwarnings('ignore')"
   ]
  },
  {
   "cell_type": "code",
   "execution_count": null,
   "metadata": {},
   "outputs": [],
   "source": [
    "plot_time_by_filtering(DataInfo('WIKI', '10000', '107836', '3'))"
   ]
  },
  {
   "cell_type": "code",
   "execution_count": null,
   "metadata": {},
   "outputs": [],
   "source": [
    "plot_time_by_filtering(DataInfo('WIKI', '10000', '107836', '5'))"
   ]
  },
  {
   "cell_type": "code",
   "execution_count": null,
   "metadata": {},
   "outputs": [],
   "source": [
    "plot_time_by_filtering(DataInfo('WIKI', '10000', '107836', '7'))"
   ]
  },
  {
   "cell_type": "code",
   "execution_count": null,
   "metadata": {},
   "outputs": [],
   "source": [
    "plot_time_by_filtering(DataInfo('WIKI', '10000', '107836', '9'))"
   ]
  },
  {
   "cell_type": "code",
   "execution_count": null,
   "metadata": {},
   "outputs": [],
   "source": [
    "plot_time_by_filtering(DataInfo('WIKI-P', '10000', '107836', '3'))"
   ]
  },
  {
   "cell_type": "code",
   "execution_count": null,
   "metadata": {},
   "outputs": [],
   "source": [
    "plot_time_by_filtering(DataInfo('WIKI-P', '100000', '107836', '3'))"
   ]
  },
  {
   "cell_type": "code",
   "execution_count": null,
   "metadata": {},
   "outputs": [],
   "source": [
    "plot_time_by_filtering(DataInfo('WIKI-P', '1000000', '107836', '3'))"
   ]
  },
  {
   "cell_type": "code",
   "execution_count": null,
   "metadata": {},
   "outputs": [],
   "source": [
    "plot_time_by_filtering(DataInfo('WIKI', '100000', '107836', '3'))"
   ]
  },
  {
   "cell_type": "code",
   "execution_count": null,
   "metadata": {},
   "outputs": [],
   "source": [
    "plot_time_by_filtering(DataInfo('WIKI', '1000000', '107836', '3'))"
   ]
  },
  {
   "cell_type": "code",
   "execution_count": null,
   "metadata": {},
   "outputs": [],
   "source": [
    "plot_time_by_size(DataInfo('WIKI', '*', '107836', '3'))"
   ]
  },
  {
   "cell_type": "code",
   "execution_count": null,
   "metadata": {},
   "outputs": [],
   "source": [
    "plot_time_by_size(DataInfo('WIKI-P', '*', '107836', '3'))"
   ]
  },
  {
   "cell_type": "code",
   "execution_count": null,
   "metadata": {},
   "outputs": [],
   "source": [
    "plot_time_by_qlen(DataInfo('WIKI', '10000', '107836', '*'))"
   ]
  },
  {
   "cell_type": "code",
   "execution_count": null,
   "metadata": {},
   "outputs": [],
   "source": [
    "plot_time_by_qlen(DataInfo('WIKI', '10000', '107836', '*'), y='Num_Verified', ylabel='Num_Verified')"
   ]
  },
  {
   "cell_type": "code",
   "execution_count": null,
   "metadata": {},
   "outputs": [],
   "source": [
    "plot_time_by_qlen(DataInfo('WIKI', '10000', '107836', '*'), y='Time_IndexFilter', ylabel='Time_IndexFilter (s)')"
   ]
  },
  {
   "cell_type": "code",
   "execution_count": null,
   "metadata": {},
   "outputs": [],
   "source": [
    "plot_time_by_qlen(DataInfo('WIKI', '10000', '107836', '*'), y='Len_Retrieved', ylabel='Len_Retrieved')"
   ]
  },
  {
   "cell_type": "code",
   "execution_count": null,
   "metadata": {},
   "outputs": [],
   "source": [
    "plot_time_by_qlen(DataInfo('WIKI', '100000', '107836', '*'))"
   ]
  },
  {
   "cell_type": "code",
   "execution_count": null,
   "metadata": {},
   "outputs": [],
   "source": [
    "plot_time_by_qlen(DataInfo('WIKI', '1000000', '107836', '*'))"
   ]
  },
  {
   "cell_type": "code",
   "execution_count": null,
   "metadata": {},
   "outputs": [],
   "source": [
    "plot_time_by_qlen(DataInfo('WIKI-P', '10000', '107836', '*'), y='Time_IndexFilter', ylabel='Time_IndexFilter (s)')"
   ]
  },
  {
   "cell_type": "code",
   "execution_count": null,
   "metadata": {},
   "outputs": [],
   "source": [
    "plot_time_by_qlen(DataInfo('WIKI-P', '100000', '107836', '*'), y='Time_IndexFilter', ylabel='Time_IndexFilter (s)')"
   ]
  },
  {
   "cell_type": "code",
   "execution_count": null,
   "metadata": {},
   "outputs": [],
   "source": [
    "plot_time_by_nr(DataInfo('WIKI', '10000', '*', '3'))"
   ]
  },
  {
   "cell_type": "code",
   "execution_count": null,
   "metadata": {},
   "outputs": [],
   "source": [
    "plot_time_by_nr(DataInfo('WIKI', '100000', '*', '3'))"
   ]
  },
  {
   "cell_type": "code",
   "execution_count": null,
   "metadata": {},
   "outputs": [],
   "source": [
    "plot_time_by_nr(DataInfo('WIKI', '1000000', '*', '3'))"
   ]
  },
  {
   "cell_type": "code",
   "execution_count": null,
   "metadata": {},
   "outputs": [],
   "source": [
    "# g = sb.FacetGrid(df, col='theta', hue='setting', height=5)\n",
    "# g.map(plt.plot, 'n', 'Time_Total', marker='o')\n",
    "# g.set(xscale='log', yscale='log')\n",
    "# g.add_legend()\n",
    "# g = sb.FacetGrid(df, col='theta', hue='setting', height=5)\n",
    "# g.map(plt.plot, 'n', 'Time_SearchPerQuery_MEAN', marker='o')\n",
    "# g.set(xscale='log', yscale='log')\n",
    "# g.add_legend()"
   ]
  },
  {
   "cell_type": "code",
   "execution_count": null,
   "metadata": {},
   "outputs": [],
   "source": [
    "df_merged = compare_alg('PrefixSearch_6.16', 'PrefixSearch_6.17')"
   ]
  },
  {
   "cell_type": "code",
   "execution_count": null,
   "metadata": {},
   "outputs": [],
   "source": [
    "pd.options.display.max_rows = 999\n",
    "df_merged = df_merged.sort_values(['size', 'theta'])\n",
    "df_merged[['setting', 'size', 'theta', 'Time_Total_0', 'Time_Total_1', 'diff_Time', 'Num_TS_Result_0', 'Num_TS_Result_1', 'diff_TS_Result']]"
   ]
  },
  {
   "cell_type": "code",
   "execution_count": null,
   "metadata": {},
   "outputs": [],
   "source": [
    "data_info = DataInfo('WIKI', '*', '107836', '3')\n",
    "TimeBySizePlotGenerator(data_info, 0.7).run()"
   ]
  },
  {
   "cell_type": "code",
   "execution_count": null,
   "metadata": {},
   "outputs": [],
   "source": [
    "data_info = DataInfo('WIKI', '100000', '107836', '*')\n",
    "TimeByQlenPlotGenerator(data_info, 0.7).run()"
   ]
  },
  {
   "cell_type": "code",
   "execution_count": null,
   "metadata": {},
   "outputs": [],
   "source": [
    "data_info = DataInfo('WIKI', '100000', '*', '3')\n",
    "TimeByNrulePlotGenerator(data_info, 0.7).run()"
   ]
  },
  {
   "cell_type": "code",
   "execution_count": null,
   "metadata": {},
   "outputs": [],
   "source": [
    "def plot_scale():\n",
    "    data_info_list = [\n",
    "        DataInfo('WIKI', '*', '107836', '3'),\n",
    "        DataInfo('WIKI', '100000', '107836', '*'),\n",
    "        DataInfo('WIKI', '100000', '*', '3'),\n",
    "        \n",
    "        DataInfo('PUBMED', '*', '79011', '3'),\n",
    "        DataInfo('PUBMED', '100000', '79011', '*'),\n",
    "        DataInfo('PUBMED', '100000', '*', '3'),\n",
    "        \n",
    "        DataInfo('AMAZON', '*', '107836', '3'),\n",
    "        DataInfo('AMAZON', '100000', '107836', '*'),\n",
    "        DataInfo('AMAZON', '100000', '*', '3'),\n",
    "    ]\n",
    "    theta_list = [0.7, 0.8, 0.9, 1.0]\n",
    "    for data_info, theta in itertools.product(data_info_list, theta_list):\n",
    "        print(data_info, theta)\n",
    "        PlotGenerator.execute(data_info, theta) "
   ]
  },
  {
   "cell_type": "code",
   "execution_count": null,
   "metadata": {},
   "outputs": [],
   "source": [
    "def plot_verify():\n",
    "    data_info_list = [\n",
    "        DataInfo('WIKI', '100000', '107836', '3'),\n",
    "        DataInfo('PUBMED', '100000', '79011', '3'),\n",
    "        DataInfo('AMAZON', '100000', '107836', '3'),        \n",
    "    ]\n",
    "    theta_list = [0.7, 0.8, 0.9, 1.0]\n",
    "    for data_info, theta in itertools.product(data_info_list, theta_list):\n",
    "        print(data_info, theta)\n",
    "        plot_verify_by_alg(data_info, theta)\n"
   ]
  },
  {
   "cell_type": "code",
   "execution_count": null,
   "metadata": {},
   "outputs": [],
   "source": [
    "plot_verify()"
   ]
  },
  {
   "cell_type": "code",
   "execution_count": null,
   "metadata": {},
   "outputs": [],
   "source": [
    "plot_verify_by_alg(DataInfo('WIKI', '100000', '107836', '3'), 0.7)"
   ]
  }
 ],
 "metadata": {
  "kernelspec": {
   "display_name": "Python 3",
   "language": "python",
   "name": "python3"
  },
  "language_info": {
   "codemirror_mode": {
    "name": "ipython",
    "version": 3
   },
   "file_extension": ".py",
   "mimetype": "text/x-python",
   "name": "python",
   "nbconvert_exporter": "python",
   "pygments_lexer": "ipython3",
   "version": "3.7.1"
  }
 },
 "nbformat": 4,
 "nbformat_minor": 2
}
