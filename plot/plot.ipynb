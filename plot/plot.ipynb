{
 "cells": [
  {
   "cell_type": "code",
   "execution_count": null,
   "metadata": {},
   "outputs": [],
   "source": [
    "%matplotlib inline\n",
    "%run exp_plot.ipynb\n",
    "# %run util.ipynb\n",
    "\n",
    "from itertools import cycle\n",
    "import warnings\n",
    "warnings.filterwarnings('ignore')\n",
    "pd.set_option('display.max_rows', 1000)\n",
    "pd.set_option('display.max_columns', 1000)\n",
    "np.set_printoptions(linewidth=110)"
   ]
  },
  {
   "cell_type": "markdown",
   "metadata": {},
   "source": [
    "### plot_time_by_size"
   ]
  },
  {
   "cell_type": "code",
   "execution_count": null,
   "metadata": {},
   "outputs": [],
   "source": [
    "plot_time_by_size(DataInfo('WIKI', '*', '107836', '5', '1.0', NAR))"
   ]
  },
  {
   "cell_type": "code",
   "execution_count": null,
   "metadata": {},
   "outputs": [],
   "source": [
    "plot_time_by_size(DataInfo('PUBMED', '*', '79011', '5', '1.0', NAR))"
   ]
  },
  {
   "cell_type": "code",
   "execution_count": null,
   "metadata": {},
   "outputs": [],
   "source": [
    "plot_time_by_size(DataInfo('AMAZON', '*', '107836', '5', '1.0', NAR))"
   ]
  },
  {
   "cell_type": "code",
   "execution_count": null,
   "metadata": {},
   "outputs": [],
   "source": [
    "plot_time_by_size(DataInfo('WIKI', '*', '107836', '5', '1.0', '-1'), theta_list=[0.7], savefig=True)"
   ]
  },
  {
   "cell_type": "code",
   "execution_count": null,
   "metadata": {},
   "outputs": [],
   "source": [
    "plot_time_by_size(DataInfo('PUBMED', '*', '79011', '5', '1.0', '-1'), theta_list=[0.7], savefig=True)"
   ]
  },
  {
   "cell_type": "code",
   "execution_count": null,
   "metadata": {},
   "outputs": [],
   "source": [
    "plot_time_by_size(DataInfo('AMAZON', '*', '107836', '5', '1.0', '-1'), theta_list=[0.7], savefig=True)"
   ]
  },
  {
   "cell_type": "code",
   "execution_count": null,
   "metadata": {},
   "outputs": [],
   "source": [
    "plot_time_by_size(DataInfo('WIKI-DOC', '*', '107836', '5', '1.0', '10'))"
   ]
  },
  {
   "cell_type": "code",
   "execution_count": null,
   "metadata": {},
   "outputs": [],
   "source": [
    "plot_time_by_size(DataInfo('PUBMED-DOC', '*', '79011', '5', '1.0', '10'))"
   ]
  },
  {
   "cell_type": "code",
   "execution_count": null,
   "metadata": {},
   "outputs": [],
   "source": [
    "plot_time_by_size(DataInfo('AMAZON-DOC', '*', '107836', '5', '1.0', '10'))"
   ]
  },
  {
   "cell_type": "code",
   "execution_count": null,
   "metadata": {},
   "outputs": [],
   "source": [
    "plot_time_by_size(DataInfo('WIKI-DOC', '*', '107836', '5', '1.0', '-1'), theta_list=[0.7], savefig=True)"
   ]
  },
  {
   "cell_type": "code",
   "execution_count": null,
   "metadata": {},
   "outputs": [],
   "source": [
    "plot_time_by_size(DataInfo('PUBMED-DOC', '*', '79011', '5', '1.0', '-1'), theta_list=[0.7], savefig=True)"
   ]
  },
  {
   "cell_type": "code",
   "execution_count": null,
   "metadata": {},
   "outputs": [],
   "source": [
    "plot_time_by_size(DataInfo('AMAZON-DOC', '*', '107836', '5', '1.0', '-1'), theta_list=[0.7], savefig=True)"
   ]
  },
  {
   "cell_type": "code",
   "execution_count": null,
   "metadata": {},
   "outputs": [],
   "source": [
    "plot_time_by_size(DataInfo('WIKI', '*', '107836', '5', '1.0'), alg_list=['NaiveContainmentSearch_1.00', 'ContainmentPrefixSearch_1.00'], setting_list=['RSS-JC-NAIVE', 'RSS-JC'])"
   ]
  },
  {
   "cell_type": "code",
   "execution_count": null,
   "metadata": {},
   "outputs": [],
   "source": [
    "plot_time_by_size(DataInfo('PUBMED', '*', '79011', '5', '1.0'), alg_list=['NaiveContainmentSearch_1.00', 'ContainmentPrefixSearch_1.00'], setting_list=['RSS-JC-NAIVE', 'RSS-JC'])"
   ]
  },
  {
   "cell_type": "code",
   "execution_count": null,
   "metadata": {},
   "outputs": [],
   "source": [
    "plot_time_by_size(DataInfo('AMAZON', '*', '107836', '5', '1.0'), alg_list=['NaiveContainmentSearch_1.00', 'ContainmentPrefixSearch_1.00'], setting_list=['RSS-JC-NAIVE', 'RSS-JC'])"
   ]
  },
  {
   "cell_type": "markdown",
   "metadata": {},
   "source": [
    "### plot_time_by_qlen"
   ]
  },
  {
   "cell_type": "code",
   "execution_count": null,
   "metadata": {},
   "outputs": [],
   "source": [
    "plot_time_by_qlen(DataInfo('WIKI', '100000', '107836', '*', '1.0', '-1'))"
   ]
  },
  {
   "cell_type": "code",
   "execution_count": null,
   "metadata": {},
   "outputs": [],
   "source": [
    "plot_time_by_qlen(DataInfo('PUBMED', '100000', '79011', '*', '1.0', '-1'))"
   ]
  },
  {
   "cell_type": "code",
   "execution_count": null,
   "metadata": {},
   "outputs": [],
   "source": [
    "plot_time_by_qlen(DataInfo('AMAZON', '100000', '107836', '*', '1.0', '-1'))"
   ]
  },
  {
   "cell_type": "code",
   "execution_count": null,
   "metadata": {},
   "outputs": [],
   "source": [
    "plot_time_by_qlen(DataInfo('WIKI-DOC', '100000', '107836', '*', '1.0'))"
   ]
  },
  {
   "cell_type": "code",
   "execution_count": null,
   "metadata": {},
   "outputs": [],
   "source": [
    "plot_time_by_qlen(DataInfo('PUBMED-DOC', '100000', '79011', '*', '1.0'))"
   ]
  },
  {
   "cell_type": "code",
   "execution_count": null,
   "metadata": {},
   "outputs": [],
   "source": [
    "plot_time_by_qlen(DataInfo('AMAZON-DOC', '100000', '107836', '*', '1.0'))"
   ]
  },
  {
   "cell_type": "markdown",
   "metadata": {},
   "source": [
    "### plot_time_by_nr"
   ]
  },
  {
   "cell_type": "code",
   "execution_count": null,
   "metadata": {},
   "outputs": [],
   "source": [
    "plot_time_by_nr(DataInfo('WIKI', '100000', '*', '5', '1.0', '-1'))"
   ]
  },
  {
   "cell_type": "code",
   "execution_count": null,
   "metadata": {},
   "outputs": [],
   "source": [
    "plot_time_by_nr(DataInfo('PUBMED', '100000', '*', '5', '1.0', '-1'))"
   ]
  },
  {
   "cell_type": "code",
   "execution_count": null,
   "metadata": {},
   "outputs": [],
   "source": [
    "plot_time_by_nr(DataInfo('AMAZON', '100000', '*', '5', '1.0', '-1'))"
   ]
  },
  {
   "cell_type": "markdown",
   "metadata": {},
   "source": [
    "### plot_time_by_lr"
   ]
  },
  {
   "cell_type": "code",
   "execution_count": null,
   "metadata": {},
   "outputs": [],
   "source": [
    "plot_time_by_lr(DataInfo('WIKI', '100000', '107836', '5', '*', '-1'))"
   ]
  },
  {
   "cell_type": "code",
   "execution_count": null,
   "metadata": {},
   "outputs": [],
   "source": [
    "plot_time_by_lr(DataInfo('PUBMED', '100000', '79011', '5', '*', '-1'))"
   ]
  },
  {
   "cell_type": "code",
   "execution_count": null,
   "metadata": {},
   "outputs": [],
   "source": [
    "plot_time_by_lr(DataInfo('AMAZON', '100000', '107836', '5', '*', '-1'))"
   ]
  },
  {
   "cell_type": "raw",
   "metadata": {},
   "source": [
    "# g = sb.FacetGrid(df, col='theta', hue='setting', height=5)\n",
    "# g.map(plt.plot, 'n', 'Time_Total', marker='o')\n",
    "# g.set(xscale='log', yscale='log')\n",
    "# g.add_legend()\n",
    "# g = sb.FacetGrid(df, col='theta', hue='setting', height=5)\n",
    "# g.map(plt.plot, 'n', 'Time_SearchPerQuery_MEAN', marker='o')\n",
    "# g.set(xscale='log', yscale='log')\n",
    "# g.add_legend()"
   ]
  },
  {
   "cell_type": "code",
   "execution_count": null,
   "metadata": {},
   "outputs": [],
   "source": [
    "diff = compare_alg('PrefixSearch_6.29', 'PrefixSearch_6.30')"
   ]
  },
  {
   "cell_type": "code",
   "execution_count": null,
   "metadata": {},
   "outputs": [],
   "source": [
    "def plot_scale():\n",
    "    data_info_list = [\n",
    "        DataInfo('WIKI', '*', '107836', '5', '1.0'),\n",
    "        DataInfo('WIKI', '100000', '107836', '*', '1.0'),\n",
    "        DataInfo('WIKI', '100000', '*', '5', '1.0'),\n",
    "        DataInfo('WIKI', '100000', '107836', '5', '*'),\n",
    "        \n",
    "        DataInfo('PUBMED', '*', '79011', '5', '1.0'),\n",
    "        DataInfo('PUBMED', '100000', '79011', '*', '1.0'),\n",
    "        DataInfo('PUBMED', '100000', '*', '5', '1.0'),\n",
    "        DataInfo('PUBMED', '100000', '79011', '5', '*'),\n",
    "        \n",
    "        DataInfo('AMAZON', '*', '107836', '5', '1.0'),\n",
    "        DataInfo('AMAZON', '100000', '107836', '*', '1.0'),\n",
    "        DataInfo('AMAZON', '100000', '*', '5', '1.0'),\n",
    "        DataInfo('AMAZON', '100000', '107836', '5', '*'),\n",
    "    ]\n",
    "    theta_list = [0.7, 0.8, 0.9, 1.0]\n",
    "    for data_info, theta in itertools.product(data_info_list, theta_list):\n",
    "        print(data_info, theta)\n",
    "        PlotGenerator.execute(data_info, theta) "
   ]
  },
  {
   "cell_type": "code",
   "execution_count": null,
   "metadata": {},
   "outputs": [],
   "source": [
    "def plot_scale2():\n",
    "    theta_list = [0.7]\n",
    "#     theta_list = [0.7, 0.8, 0.9, 1.0]\n",
    "    for theta in theta_list:\n",
    "        print(theta)\n",
    "        PlotGenerator.execute(DataInfo('WIKI', '*', '107836', '5', '1.0', NAR), theta, ymax_offset=1)\n",
    "        PlotGenerator.execute(DataInfo('PUBMED', '*', '79011', '5', '1.0', NAR), theta, ymax_offset=1)\n",
    "        PlotGenerator.execute(DataInfo('AMAZON', '*', '107836', '5', '1.0', NAR), theta, ymax_offset=1)\n",
    "\n",
    "        PlotGenerator.execute(DataInfo('WIKI', '100000', '107836', '*', '1.0', '-1'), theta, ymax_offset=0)\n",
    "        PlotGenerator.execute(DataInfo('PUBMED', '100000', '79011', '*', '1.0', '-1'), theta, ymax_offset=1)\n",
    "        PlotGenerator.execute(DataInfo('AMAZON', '100000', '107836', '*', '1.0', '-1'), theta, ymax_offset=1)\n",
    "\n",
    "        PlotGenerator.execute(DataInfo('WIKI', '100000', '*', '5', '1.0', '-1'), theta, ymax_offset=0)\n",
    "        PlotGenerator.execute(DataInfo('PUBMED', '100000', '*', '5', '1.0', '-1'), theta, ymax_offset=0)\n",
    "        PlotGenerator.execute(DataInfo('AMAZON', '100000', '*', '5', '1.0', '-1'), theta, ymax_offset=0)\n",
    "\n",
    "        PlotGenerator.execute(DataInfo('WIKI', '100000', '107836', '5', '*', '-1'), theta, ymax_offset=0)\n",
    "        PlotGenerator.execute(DataInfo('PUBMED', '100000', '79011', '5', '*', '-1'), theta, ymax_offset=1)\n",
    "        PlotGenerator.execute(DataInfo('AMAZON', '100000', '107836', '5', '*', '-1'), theta, ymax_offset=0)\n",
    "    print('FINISHED')"
   ]
  },
  {
   "cell_type": "code",
   "execution_count": null,
   "metadata": {},
   "outputs": [],
   "source": [
    "def plot_vary_n():\n",
    "    theta_list = [0.7]\n",
    "#     theta_list = [0.7, 0.8, 0.9, 1.0]\n",
    "    for theta in theta_list:\n",
    "        print(theta)\n",
    "        PlotGenerator.execute(DataInfo('WIKI', '*', '107836', '5', '1.0', '10'), theta, ymax_offset=1)\n",
    "        PlotGenerator.execute(DataInfo('PUBMED', '*', '79011', '5', '1.0', '10'), theta, ymax_offset=1)\n",
    "        PlotGenerator.execute(DataInfo('AMAZON', '*', '107836', '5', '1.0', '10'), theta, ymax_offset=1)\n",
    "    print('FINISHED')\n",
    "plot_vary_n()"
   ]
  },
  {
   "cell_type": "code",
   "execution_count": null,
   "metadata": {},
   "outputs": [],
   "source": [
    "def plot_containment():\n",
    "    theta = 0.7\n",
    "    alg_list=['NaiveContainmentSearch_1.00', 'ContainmentPrefixSearch_1.00']\n",
    "    setting_list = ['RSS-JC-NAIVE', 'RSS-JC']\n",
    "    goal='containment_time_by_size'\n",
    "\n",
    "    TimeBySizePlotGenerator(DataInfo('WIKI', '*', '107836', '5', '1.0', '-1'), theta, -1, alg_list, setting_list, goal).run()\n",
    "    TimeBySizePlotGenerator(DataInfo('PUBMED', '*', '79011', '5', '1.0', '-1'), theta, -1, alg_list, setting_list, goal).run()\n",
    "    TimeBySizePlotGenerator(DataInfo('AMAZON', '*', '107836', '5', '1.0', '-1'), theta, -1, alg_list, setting_list, goal).run()"
   ]
  },
  {
   "cell_type": "code",
   "execution_count": null,
   "metadata": {},
   "outputs": [],
   "source": [
    "def plot_doc():\n",
    "    theta = 0.7\n",
    "    TimeBySizePlotGenerator(DataInfo('WIKI-DOC', '*', '107836', '5', '1.0', '-1'), theta, 0).run()\n",
    "    TimeBySizePlotGenerator(DataInfo('PUBMED-DOC', '*', '79011', '5', '1.0', '-1'), theta, 1).run()\n",
    "    TimeBySizePlotGenerator(DataInfo('AMAZON-DOC', '*', '107836', '5', '1.0', '-1'), theta, 0).run()"
   ]
  },
  {
   "cell_type": "code",
   "execution_count": null,
   "metadata": {},
   "outputs": [],
   "source": [
    "def plot_verify():\n",
    "    data_info_list = [\n",
    "        DataInfo('WIKI', '100000', '107836', '5'),\n",
    "        DataInfo('PUBMED', '100000', '79011', '5'),\n",
    "        DataInfo('AMAZON', '100000', '107836', '5'),        \n",
    "    ]\n",
    "    theta_list = [0.7, 0.8, 0.9, 1.0]\n",
    "    for data_info, theta in itertools.product(data_info_list, theta_list):\n",
    "        print(data_info, theta)\n",
    "        plot_verify_by_alg(data_info, theta)"
   ]
  },
  {
   "cell_type": "code",
   "execution_count": null,
   "metadata": {},
   "outputs": [],
   "source": [
    "def plot_filter_time():\n",
    "    data_info_list = [\n",
    "        DataInfo('WIKI', '100000', '107836', '5'),\n",
    "        DataInfo('PUBMED', '100000', '79011', '5'),\n",
    "        DataInfo('AMAZON', '100000', '107836', '5'),        \n",
    "    ]\n",
    "    theta_list = [0.7, 0.8, 0.9, 1.0]\n",
    "    for data_info, theta in itertools.product(data_info_list, theta_list):\n",
    "        print(data_info, theta)\n",
    "        plot_filter_time_by_alg(data_info, theta)"
   ]
  },
  {
   "cell_type": "code",
   "execution_count": null,
   "metadata": {},
   "outputs": [],
   "source": [
    "def plot_vary_theta():\n",
    "    TimeByThetaPlotGenerator(DataInfo('WIKI', '100000', '107836', '5', '1.0', '-1'), 0, ymax_offset=0).run()\n",
    "    TimeByThetaPlotGenerator(DataInfo('PUBMED', '100000', '79011', '5', '1.0', '-1'), 0, ymax_offset=1).run()\n",
    "    TimeByThetaPlotGenerator(DataInfo('AMAZON', '100000', '107836', '5', '1.0', '-1'), 0, ymax_offset=0).run()"
   ]
  },
  {
   "cell_type": "code",
   "execution_count": null,
   "metadata": {},
   "outputs": [],
   "source": [
    "plot_scale2()"
   ]
  },
  {
   "cell_type": "code",
   "execution_count": null,
   "metadata": {},
   "outputs": [],
   "source": [
    "plot_doc()"
   ]
  },
  {
   "cell_type": "code",
   "execution_count": null,
   "metadata": {},
   "outputs": [],
   "source": [
    "plot_verify()"
   ]
  },
  {
   "cell_type": "code",
   "execution_count": null,
   "metadata": {},
   "outputs": [],
   "source": [
    "plot_filter_time()"
   ]
  },
  {
   "cell_type": "code",
   "execution_count": null,
   "metadata": {},
   "outputs": [],
   "source": [
    "plot_containment()"
   ]
  },
  {
   "cell_type": "code",
   "execution_count": null,
   "metadata": {},
   "outputs": [],
   "source": [
    "plot_vary_theta()"
   ]
  },
  {
   "cell_type": "code",
   "execution_count": null,
   "metadata": {},
   "outputs": [],
   "source": [
    "# tex_table_filter_power('Num_Verified')\n",
    "tex_table_filter_power('Time_SearchPerQuery_MEAN')"
   ]
  },
  {
   "cell_type": "code",
   "execution_count": null,
   "metadata": {},
   "outputs": [],
   "source": [
    "tex_heuristic_accuracy()"
   ]
  },
  {
   "cell_type": "code",
   "execution_count": null,
   "metadata": {},
   "outputs": [],
   "source": [
    "plot_index_build_time('nt')\n",
    "plot_index_build_time('nr')"
   ]
  },
  {
   "cell_type": "code",
   "execution_count": null,
   "metadata": {},
   "outputs": [],
   "source": [
    "data_info = DataInfo('PUBMED', '100000', '1000', '5', '1.0')\n",
    "df = df_index_stat(data_info)"
   ]
  },
  {
   "cell_type": "code",
   "execution_count": null,
   "metadata": {},
   "outputs": [],
   "source": [
    "tex_compare_index(DataInfo('WIKI', '1000000', '107836', '5', '1.0'))\n",
    "tex_compare_index(DataInfo('PUBMED', '1000000', '79011', '5', '1.0'))\n",
    "tex_compare_index(DataInfo('AMAZON', '1000000', '107836', '5', '1.0'))"
   ]
  },
  {
   "cell_type": "code",
   "execution_count": null,
   "metadata": {},
   "outputs": [],
   "source": [
    "def performance_comparison_from_df():\n",
    "    theta0 = 0.7\n",
    "    qlen0 = 5\n",
    "    n0 = 100000\n",
    "    \n",
    "    def compare_algs(df, alg0, alg1, data_info=None, measure='Time_SearchPerQuery_MEAN', show_all=False):\n",
    "        vals0 = df[df.setting==alg0][measure].values\n",
    "        vals1 = df[df.setting==alg1][measure].values\n",
    "        n = min(len(vals0), len(vals1))\n",
    "        values = vals0[:n]/vals1[:n]\n",
    "        if len(values) > 0: maxval, minval = max(values), min(values)\n",
    "        else: maxval = minval = ''\n",
    "        print(measure, '' if data_info is None else data_info.name, '{}/{}'.format(alg0, alg1), [minval, maxval], values if show_all else '')\n",
    "    \n",
    "    print('Filter effect')\n",
    "    df = df_from_PrefixSearchFilterPowerTest()\n",
    "    df = df[df.theta==theta0][df.n==n0][df.qlen==qlen0]\n",
    "#     compare_algs(df, 'RSS-NAIVE', 'RSS-C', measure='Num_Verified')\n",
    "#     compare_algs(df, 'RSS-C', 'RSS-P', measure='Num_Verified')\n",
    "#     compare_algs(df, 'RSS-P', 'RSS-L', measure='Num_Verified')\n",
    "#     compare_algs(df, 'RSS-L', 'RSS-R', measure='Num_Verified')\n",
    "    \n",
    "    print('Varying nt')\n",
    "    for data_info in [DataInfo('WIKI', '*', '107836', '5', '1.0', NAR), DataInfo('AMAZON', '*', '107836', '5', '1.0', NAR), DataInfo('PUBMED', '*', '79011', '5', '1.0', NAR)]: \n",
    "        df = df_time_by_size(data_info)\n",
    "        df = df[df.theta==theta0]\n",
    "        df.drop(df[df['n']>10000000].index , inplace=True)\n",
    "        compare_algs(df, 'RSS-CL', 'RSS-CPL', data_info)\n",
    "#         compare_algs(df, 'RSS-CL', 'RSS-CPLR', data_info)\n",
    "        \n",
    "    print('Varying qlen')\n",
    "    for data_info in [DataInfo('WIKI', '100000', '107836', '*', '1.0', '-1'), DataInfo('AMAZON', '100000', '107836', '*', '1.0', '-1'), DataInfo('PUBMED', '100000', '79011', '*', '1.0', '-1')]:\n",
    "        df = df_time_by_qlen(data_info)\n",
    "        df = df[df.theta==theta0]\n",
    "        compare_algs(df, 'RSS-CL', 'RSS-CPL', data_info)\n",
    "#         compare_algs(df, 'RSS-PL', 'RSS-CPLR', data_info)\n",
    "\n",
    "    print('Varying nr')\n",
    "    for data_info in [DataInfo('WIKI', '100000', '*', '5', '1.0', '-1'), DataInfo('AMAZON', '100000', '*', '5', '1.0', '-1'), DataInfo('PUBMED', '100000', '*', '5', '1.0', '-1')]:\n",
    "        df = df_time_by_nr(data_info)\n",
    "        df = df[df.theta==theta0]\n",
    "#         for setting in ['RSS-POS', 'RSS-LEN', 'RSS-PREFIX']:\n",
    "#             compare_algs(df, 'RSS-COUNT', setting, data_info)\n",
    "#         compare_algs(df, 'RSS-NAIVE', 'RSS-PREFIX', data_info)\n",
    "        compare_algs(df, 'PKWISE-R', 'RSS-CPL', data_info)\n",
    "#         compare_algs(df, 'PKWISE-R', 'RSS-CPLR', data_info)\n",
    "#         compare_algs(df, 'RSS-PL', 'RSS-CP', data_info)\n",
    "#         compare_algs(df, 'RSS-PL', 'RSS-CPL', data_info)\n",
    "\n",
    "    print('Varying lr')\n",
    "    for data_info in [DataInfo('WIKI', '100000', '107836', '5', '*', '-1'), DataInfo('AMAZON', '100000', '107836', '5', '*', '-1'), DataInfo('PUBMED', '100000', '79011', '5', '*', '-1')]:\n",
    "        df = df_time_by_lr(data_info)\n",
    "        df = df[df.theta==theta0]\n",
    "        compare_algs(df, 'RSS-CL', 'RSS-CPL', data_info)\n",
    "#         compare_algs(df, 'RSS-CL', 'RSS-CPLR', data_info)\n",
    "        \n",
    "    print('Varying theta')\n",
    "    for data_info in [DataInfo('WIKI', '100000', '107836', '5', '1.0', '-1'), DataInfo('AMAZON', '100000', '107836', '5', '1.0', '-1'), DataInfo('PUBMED', '100000', '79011', '5', '1.0', '-1')]:\n",
    "        df = df_time_by_filtering(data_info).groupby(['theta', 'setting']).head(1).sort_values('theta')\n",
    "        compare_algs(df, 'RSS-CL', 'RSS-CPL', data_info)\n",
    "#         compare_algs(df, 'RSS-CL', 'RSS-CPLR', data_info)\n",
    "        \n",
    "    print('Index construction')\n",
    "    for data_info in [DataInfo('WIKI', '*', '107836', '5', '1.0', NAR), DataInfo('AMAZON', '*', '107836', '5', '1.0', NAR), DataInfo('PUBMED', '*', '79011', '5', '1.0', NAR)]:\n",
    "        df = df_time_by_size(data_info)\n",
    "        df.drop(df[df['n']>10000000].index , inplace=True)\n",
    "        df = df[df.theta==0.7][df.setting=='RSS-CP'].sort_values('n', ascending=False)\n",
    "        print('Time_BuildIndex', data_info.name, df['Time_BuildIndex'].values[0])\n",
    "    \n",
    "    print('Containment')\n",
    "    for data_info in [DataInfo('WIKI', '*', '107836', '5', '1.0', '-1'), DataInfo('AMAZON', '*', '107836', '5', '1.0', '-1'), DataInfo('PUBMED', '*', '79011', '5', '1.0', '-1')]:\n",
    "        df = df_time_by_size(data_info, alg_list=['NaiveContainmentSearch_1.00', 'ContainmentPrefixSearch_1.00'])\n",
    "        df = df[df.theta==0.7]\n",
    "        compare_algs(df, 'RSS-JC-NAIVE', 'RSS-JC', data_info)\n",
    "        \n",
    "    print('document')\n",
    "    for data_info in [DataInfo('WIKI-DOC', '*', '107836', '5', '1.0', '-1'), DataInfo('AMAZON-DOC', '*', '107836', '5', '1.0', '-1'), DataInfo('PUBMED-DOC', '*', '79011', '5', '1.0', '-1')]:\n",
    "        df = df_time_by_size(data_info)\n",
    "        df = df[df.theta==theta0][df.n_doc>=1000][df.n_doc<=1000000]\n",
    "        compare_algs(df, 'RSS-CL', 'RSS-CPL', data_info)\n",
    "#         compare_algs(df, 'RSS-CL', 'RSS-CPLR', data_info)"
   ]
  },
  {
   "cell_type": "code",
   "execution_count": null,
   "metadata": {},
   "outputs": [],
   "source": [
    "performance_comparison_from_df()"
   ]
  }
 ],
 "metadata": {
  "kernelspec": {
   "display_name": "Python 3",
   "language": "python",
   "name": "python3"
  },
  "language_info": {
   "codemirror_mode": {
    "name": "ipython",
    "version": 3
   },
   "file_extension": ".py",
   "mimetype": "text/x-python",
   "name": "python",
   "nbconvert_exporter": "python",
   "pygments_lexer": "ipython3",
   "version": "3.7.1"
  }
 },
 "nbformat": 4,
 "nbformat_minor": 4
}
