{
 "cells": [
  {
   "cell_type": "code",
   "execution_count": null,
   "metadata": {},
   "outputs": [],
   "source": [
    "import ast\n",
    "import collections\n",
    "import itertools\n",
    "import matplotlib.pyplot as plt\n",
    "import pandas as pd\n",
    "import seaborn as sb\n",
    "import sqlite3"
   ]
  },
  {
   "cell_type": "code",
   "execution_count": null,
   "metadata": {},
   "outputs": [],
   "source": [
    "class SQLiteContext:\n",
    "    def __init__(self):\n",
    "        self.conn = sqlite3.connect('/home/ghsong/django-substring/mysite/db.sqlite3')\n",
    "        self.conn.row_factory = dict_factory\n",
    "    \n",
    "    def __enter__(self):\n",
    "        return self.conn.cursor()\n",
    "    \n",
    "    def __exit__(self, type, value, traceback):\n",
    "        self.conn.close()"
   ]
  },
  {
   "cell_type": "code",
   "execution_count": null,
   "metadata": {},
   "outputs": [],
   "source": [
    "def execute_query(query):\n",
    "    with SQLiteContext() as cur:\n",
    "        cur.execute(query)\n",
    "        return cur.fetchall()"
   ]
  },
  {
   "cell_type": "code",
   "execution_count": null,
   "metadata": {},
   "outputs": [],
   "source": [
    "query_tmpl = 'SELECT exp_date, algorithm_id, dataset_id, parameter, result FROM projectManager_expitem WHERE project_id=1 {} ORDER BY -exp_date'"
   ]
  },
  {
   "cell_type": "code",
   "execution_count": null,
   "metadata": {},
   "outputs": [],
   "source": [
    "def dict_factory(cursor, row):\n",
    "    d = {}\n",
    "    for idx, col in enumerate(cursor.description):\n",
    "        d[col[0]] = row[idx]\n",
    "    return d"
   ]
  },
  {
   "cell_type": "code",
   "execution_count": null,
   "metadata": {},
   "outputs": [],
   "source": [
    "def str2dict(s):\n",
    "    return ast.literal_eval(s)"
   ]
  },
  {
   "cell_type": "code",
   "execution_count": null,
   "metadata": {},
   "outputs": [],
   "source": [
    "setting_list = ['NoFilter', 'IF', 'NaivePF', 'ICF', 'IPF', 'LF', 'PF']\n",
    "dict_title = {\n",
    "    'NoFilter':'LRSim-NAIVE',\n",
    "    'IF':'LRSim-INDEX',\n",
    "    'NaivePF':'LRSim-PKDUCK',\n",
    "    'ICF':'LRSim-COUNT',\n",
    "    'IPF':'LRSim-POS',\n",
    "    'LF':'LRSim-LEN',\n",
    "    'PF':'LRSim-PREFIX',\n",
    "             }\n",
    "def get_setting_label(bLF, bPF, idx_impl):\n",
    "    if not bLF and not bPF and idx_impl == 'None': return 'NoFilter'\n",
    "    elif not bLF and not bPF and idx_impl == 'Naive': return 'IF'\n",
    "    elif not bLF and not bPF and idx_impl == 'Count': return 'ICF'\n",
    "    elif not bLF and not bPF and idx_impl == 'Position': return 'IPF'\n",
    "    elif bLF and not bPF and idx_impl == 'Position': return 'LF'\n",
    "    elif bLF and bPF and idx_impl == 'Position': return 'PF'\n",
    "    elif bLF and bPF and idx_impl == 'None': return 'NoIndex'\n",
    "    elif bLF and bPF and idx_impl == 'Naive': return 'NaivePF'\n",
    "    else: return None"
   ]
  },
  {
   "cell_type": "code",
   "execution_count": null,
   "metadata": {},
   "outputs": [],
   "source": [
    "alg_name_final = 'PrefixSearch_6.17'"
   ]
  },
  {
   "cell_type": "code",
   "execution_count": null,
   "metadata": {},
   "outputs": [],
   "source": [
    "dict_alg = {}\n",
    "dict_aid = {}\n",
    "with SQLiteContext() as cur:\n",
    "    cur.execute(\"SELECT id, name, version FROM projectManager_algorithm WHERE project_id=1\")\n",
    "    rows = cur.fetchall()\n",
    "    for row in rows: \n",
    "        dict_alg[row['name']+'_'+row['version']] = row['id']\n",
    "        dict_aid[row['id']] = row['name']+'_'+row['version']"
   ]
  },
  {
   "cell_type": "code",
   "execution_count": null,
   "metadata": {},
   "outputs": [],
   "source": [
    "DataInfo = collections.namedtuple('DataInfo', ['name', 'size', 'nr', 'qlen'])"
   ]
  },
  {
   "cell_type": "code",
   "execution_count": null,
   "metadata": {},
   "outputs": [],
   "source": [
    "dict_data = {}\n",
    "dict_did = {}\n",
    "with SQLiteContext() as cur:\n",
    "    cur.execute(\"SELECT id, name FROM projectManager_dataset WHERE project_id=1 and id >= 71\")\n",
    "    rows = cur.fetchall()\n",
    "    for row in rows: \n",
    "        dname, size, nr, qlen = row['name'].rsplit('_', 3)\n",
    "        size, nr, qlen = size[1:], nr[1:], qlen[1:]\n",
    "        try: dict_data[dname]\n",
    "        except: dict_data[dname] = {}\n",
    "        dict_data[dname][(size, nr, qlen)] = row['id']\n",
    "        dict_did[row['id']] = (dname, size, nr, qlen)"
   ]
  },
  {
   "cell_type": "code",
   "execution_count": null,
   "metadata": {},
   "outputs": [],
   "source": [
    "def get_did_list(data_info):\n",
    "    assert type(data_info) == DataInfo\n",
    "    dname, size, nr, qlen = data_info\n",
    "    const_idx_list = list(map(lambda x:x[0], filter(lambda x: x[1]!='*', enumerate([size, nr, qlen]))))\n",
    "    assert len(const_idx_list) == 2\n",
    "    target_idx = [size, nr, qlen].index('*')\n",
    "    data_item_list = dict_data[dname].items()\n",
    "    for idx in const_idx_list:\n",
    "        data_item_list = list(filter(lambda x: x[0][idx] == data_info[idx+1], data_item_list))\n",
    "    return list(sorted(map(lambda x: (x[0][target_idx], x[1]), data_item_list), key=lambda x:int(x[0])))"
   ]
  },
  {
   "cell_type": "code",
   "execution_count": null,
   "metadata": {},
   "outputs": [],
   "source": [
    "def get_size_did_list(dname, nr, qlen):\n",
    "    return list(\n",
    "        sorted(\n",
    "            map(lambda x: (x[0][0], x[1]), \n",
    "                filter(lambda x: x[0][1]==nr and x[0][2]==qlen, dict_data[dname].items()))\n",
    "        , key=lambda x: int(x[0])))"
   ]
  },
  {
   "cell_type": "code",
   "execution_count": null,
   "metadata": {},
   "outputs": [],
   "source": [
    "def get_qlen_did_list(dname, size, nr):\n",
    "    return list(\n",
    "        sorted(\n",
    "            map(lambda x: (x[0][2], x[1]), \n",
    "                filter(lambda x: x[0][0]==size and x[0][1]==nr, dict_data[dname].items()))\n",
    "        , key=lambda x: int(x[0])))"
   ]
  },
  {
   "cell_type": "code",
   "execution_count": null,
   "metadata": {},
   "outputs": [],
   "source": [
    "# marker_list = itertools.cycle(['+', 'x', 'o', '^', 'D', 's', 'v'])\n",
    "marker_list = ['+', 'x', 'o', '^', 'D', 's', 'v']\n",
    "dashes_list = itertools.cycle([0])"
   ]
  },
  {
   "cell_type": "code",
   "execution_count": null,
   "metadata": {},
   "outputs": [],
   "source": [
    "def parse_data_info(data_info):\n",
    "    assert type(data_info) == DataInfo\n",
    "    dname, size, nr, qlen = data_info\n",
    "    return dname, size, nr, qlen"
   ]
  },
  {
   "cell_type": "code",
   "execution_count": null,
   "metadata": {},
   "outputs": [],
   "source": [
    "def df_time_by_filtering(data_info, alg_name=alg_name_final):\n",
    "    dname, size, nr, qlen = parse_data_info(data_info)\n",
    "    did = dict_data[dname][(size, nr, qlen)]\n",
    "    aid = dict_alg[alg_name]\n",
    "    predicates = ' '.join(['AND dataset_id={}'.format(did), 'AND algorithm_id={}'.format(aid)])\n",
    "    query = query_tmpl.format(predicates)\n",
    "    output_list = []\n",
    "    for row in execute_query(query):\n",
    "        dict_param = str2dict(row['parameter'])\n",
    "        dict_rslt = str2dict(row['result'])\n",
    "        output = {}\n",
    "        output['algorithm_id'] = row['algorithm_id']\n",
    "        output['theta'] = float(dict_param['theta'])\n",
    "        bLF, bPF = map(lambda x: x == 'true', [dict_param[key] for key in ['bLF', 'bPF']])\n",
    "        idx_impl = dict_param['index_impl']\n",
    "        output['setting'] = get_setting_label(bLF, bPF, idx_impl)\n",
    "        if output['setting'] is None: continue\n",
    "        output['Time_Total'] = float(dict_rslt['Time_Total'])/1000\n",
    "        output['Time_SearchPerQuery_MEAN'] = float(dict_rslt['Time_SearchPerQuery_MEAN'])/1000\n",
    "        output['Num_QS_Verified'] = int(dict_rslt['Num_QS_Verified'])\n",
    "        output['Num_TS_Verified'] = int(dict_rslt['Num_TS_Verified'])\n",
    "        output['Num_Verified'] = int(dict_rslt['Num_QS_Verified']) + int(dict_rslt['Num_TS_Verified'])\n",
    "        output_list.append(output)\n",
    "    df = pd.DataFrame.from_dict(output_list)\n",
    "    df.setting = pd.Categorical(df.setting, categories=setting_list)\n",
    "    return df"
   ]
  },
  {
   "cell_type": "code",
   "execution_count": null,
   "metadata": {},
   "outputs": [],
   "source": [
    "def df_time_by_size(data_info, alg_name=alg_name_final):\n",
    "    dname, size, nr, qlen = parse_data_info(data_info)\n",
    "    size_did_list = get_did_list(data_info)\n",
    "    aid = dict_alg[alg_name]\n",
    "    output_list = []\n",
    "    for size, did in size_did_list:\n",
    "        predicates = ' '.join(['AND dataset_id={}'.format(did), 'AND algorithm_id={}'.format(aid)])\n",
    "        query = query_tmpl.format(predicates)\n",
    "        for row in execute_query(query):\n",
    "            dict_param = str2dict(row['parameter'])\n",
    "            dict_rslt = str2dict(row['result'])\n",
    "            bLF, bPF = map(lambda x: x == 'true', [dict_param[key] for key in ['bLF', 'bPF']])\n",
    "            idx_impl = dict_param['index_impl']\n",
    "\n",
    "            output = {}\n",
    "            output['n'] = int(dict_rslt['Dataset_numIndexed'])\n",
    "            output['theta'] = float(dict_param['theta'])\n",
    "            output['setting'] = get_setting_label(bLF, bPF, idx_impl)\n",
    "            if output['setting'] is None: continue\n",
    "            output['Time_Total'] = float(dict_rslt['Time_Total'])/1000\n",
    "            output['Time_SearchPerQuery_MEAN'] = float(dict_rslt['Time_SearchPerQuery_MEAN'])/1000\n",
    "            output_list.append(output)\n",
    "    df = pd.DataFrame.from_dict(output_list)\n",
    "    df.setting = pd.Categorical(df.setting, categories=setting_list)\n",
    "    return df"
   ]
  },
  {
   "cell_type": "code",
   "execution_count": null,
   "metadata": {},
   "outputs": [],
   "source": [
    "def df_time_by_qlen(data_info, alg_name=alg_name_final):\n",
    "    dname, size, nr, qlen = parse_data_info(data_info)\n",
    "    qlen_did_list = get_did_list(data_info)\n",
    "    qlen_list = list(map(lambda x:int(x[0]), qlen_did_list))\n",
    "    aid = dict_alg[alg_name]\n",
    "    output_list = []\n",
    "    for qlen, did in qlen_did_list:\n",
    "        predicates = ' '.join(['AND dataset_id={}'.format(did), 'AND algorithm_id={}'.format(aid)])\n",
    "        query = query_tmpl.format(predicates)\n",
    "        for row in execute_query(query):\n",
    "            dict_param = str2dict(row['parameter'])\n",
    "            dict_rslt = str2dict(row['result'])\n",
    "            bLF, bPF = map(lambda x: x == 'true', [dict_param[key] for key in ['bLF', 'bPF']])\n",
    "            idx_impl = dict_param['index_impl']\n",
    "\n",
    "            output = {}\n",
    "            output['qlen'] = int(qlen)\n",
    "            output['theta'] = float(dict_param['theta'])\n",
    "            output['setting'] = get_setting_label(bLF, bPF, idx_impl)\n",
    "            if output['setting'] is None: continue\n",
    "            output['Time_Total'] = float(dict_rslt['Time_Total'])/1000\n",
    "            output['Time_SearchPerQuery_MEAN'] = float(dict_rslt['Time_SearchPerQuery_MEAN'])/1000\n",
    "            output['Time_IndexFilter'] = float(dict_rslt['Time_QS_IndexFilter']) + float(dict_rslt['Time_TS_IndexFilter'])\n",
    "            output['Num_Verified'] = int(dict_rslt['Num_QS_Verified']) + int(dict_rslt['Num_TS_Verified'])\n",
    "            output['Len_Retrieved'] = int(dict_rslt['Len_QS_Retrieved']) + int(dict_rslt['Len_TS_Retrieved'])\n",
    "            output_list.append(output)\n",
    "    df = pd.DataFrame.from_dict(output_list)\n",
    "    df.setting = pd.Categorical(df.setting, categories=setting_list)\n",
    "    return df    "
   ]
  },
  {
   "cell_type": "code",
   "execution_count": 4,
   "metadata": {},
   "outputs": [],
   "source": [
    "def df_time_by_nr(data_info, alg_name=alg_name_final):\n",
    "    assert type(data_info) == DataInfo\n",
    "    dname, size, nr, qlen = data_info\n",
    "    nr_did_list = get_did_list(data_info)\n",
    "    aid = dict_alg[alg_name]\n",
    "    output_list = []\n",
    "    for nr, did in nr_did_list:\n",
    "        predicates = ' '.join(['AND dataset_id={}'.format(did), 'AND algorithm_id={}'.format(aid)])\n",
    "        query = query_tmpl.format(predicates)\n",
    "        for row in execute_query(query):\n",
    "            dict_param = str2dict(row['parameter'])\n",
    "            dict_rslt = str2dict(row['result'])\n",
    "            bLF, bPF = map(lambda x: x == 'true', [dict_param[key] for key in ['bLF', 'bPF']])\n",
    "            idx_impl = dict_param['index_impl']\n",
    "\n",
    "            output = {}\n",
    "            output['nr'] = int(nr)\n",
    "            output['theta'] = float(dict_param['theta'])\n",
    "            output['setting'] = get_setting_label(bLF, bPF, idx_impl)\n",
    "            if output['setting'] is None: continue\n",
    "            output['Time_Total'] = float(dict_rslt['Time_Total'])/1000\n",
    "            output['Time_SearchPerQuery_MEAN'] = float(dict_rslt['Time_SearchPerQuery_MEAN'])/1000\n",
    "            output_list.append(output)\n",
    "    df = pd.DataFrame.from_dict(output_list)\n",
    "    df.setting = pd.Categorical(df.setting, categories=setting_list)\n",
    "    return df"
   ]
  },
  {
   "cell_type": "code",
   "execution_count": null,
   "metadata": {},
   "outputs": [],
   "source": [
    "def plot_time_by_filtering(data_info, alg_name=alg_name_final):\n",
    "    df = df_time_by_filtering(data_info, alg_name=alg_name_final)\n",
    "    f, axes = plt.subplots(1, 3, figsize=(21, 6), sharex=False, sharey=False)\n",
    "    sb.catplot(x='theta', y='Time_Total', hue='setting', data=df, kind='bar', ax=axes[0])\n",
    "    sb.catplot(x='theta', y='Time_SearchPerQuery_MEAN', hue='setting', data=df, kind='bar', ax=axes[1])\n",
    "    sb.catplot(x='theta', y='Num_Verified', hue='setting', data=df, kind='bar', ax=axes[2])\n",
    "    axes[0].set(ylabel='Total Time (sec)', yscale='log')\n",
    "    axes[1].set(ylabel='Mean query time (s)', yscale='log')\n",
    "    axes[2].set(ylabel='# Verified', yscale='log')\n",
    "    for i in range(2,5): plt.close(i)"
   ]
  },
  {
   "cell_type": "code",
   "execution_count": null,
   "metadata": {},
   "outputs": [],
   "source": [
    "def plot_time_by_size(data_info, alg_name=alg_name_final):\n",
    "    df = df_time_by_size(data_info, alg_name=alg_name_final)\n",
    "    f, axes = plt.subplots(1, 5, figsize=(25, 5), sharex=False, sharey=False)\n",
    "#     for i, theta in zip(range(5), [0.6, 0.7, 0.8, 0.9, 1.0]):\n",
    "#         sb.lineplot(data=df[df.theta==theta], x=\"n\", y=\"Time_Total\", hue=\"setting\", marker='o', ax=axes[0,i])\n",
    "#         axes[0,i].set(ylabel='Total Time (sec)', xscale='log', yscale='log')\n",
    "    for i, theta in zip(range(5), [0.6, 0.7, 0.8, 0.9, 1.0]):\n",
    "        sb.lineplot(data=df[df.theta==theta], x=\"n\", y=\"Time_SearchPerQuery_MEAN\", hue=\"setting\", marker='o', ax=axes[i])\n",
    "        axes[i].set(ylabel='Mean query time (s)', xscale='log', yscale='log', title='theta=%.1f'%theta)\n",
    "        if i == 4: axes[i].legend(loc='center left', bbox_to_anchor=(1, 0.5))\n",
    "        else: axes[i].get_legend().remove()"
   ]
  },
  {
   "cell_type": "code",
   "execution_count": null,
   "metadata": {},
   "outputs": [],
   "source": [
    "def plot_time_by_qlen(data_info, alg_name=alg_name_final, y='Time_SearchPerQuery_MEAN', ylabel='Mean query time (s)'):\n",
    "    dname, size, nr, qlen = parse_data_info(data_info)\n",
    "    qlen_list = list(map(lambda x:int(x[0]), get_did_list(data_info)))\n",
    "    df = df_time_by_qlen(data_info, alg_name=alg_name_final)\n",
    "    f, axes = plt.subplots(1, 5, figsize=(25, 5), sharex=False, sharey=False)\n",
    "#     for i, theta in zip(range(5), [0.6, 0.7, 0.8, 0.9, 1.0]):\n",
    "#         sb.lineplot(data=df[df.theta==theta], x=\"n\", y=\"Time_Total\", hue=\"setting\", marker='o', ax=axes[0,i])\n",
    "#         axes[0,i].set(ylabel='Total Time (sec)', xscale='log', yscale='log')\n",
    "    for i, theta in zip(range(5), [0.6, 0.7, 0.8, 0.9, 1.0]):\n",
    "        sb.lineplot(data=df[df.theta==theta], x=\"qlen\", y=y, hue=\"setting\", marker='o', ax=axes[i])\n",
    "        axes[i].set(xticks=qlen_list, ylabel=ylabel, yscale='log', title='theta=%.1f'%theta)\n",
    "        if i == 4: axes[i].legend(loc='center left', bbox_to_anchor=(1, 0.5))\n",
    "        else: axes[i].get_legend().remove()"
   ]
  },
  {
   "cell_type": "code",
   "execution_count": null,
   "metadata": {},
   "outputs": [],
   "source": [
    "def plot_time_by_nr(data_info, alg_name=alg_name_final):\n",
    "    df = df_time_by_nr(data_info, alg_name=alg_name_final)\n",
    "    f, axes = plt.subplots(1, 5, figsize=(25, 5), sharex=False, sharey=False)\n",
    "#     for i, theta in zip(range(5), [0.6, 0.7, 0.8, 0.9, 1.0]):\n",
    "#         sb.lineplot(data=df[df.theta==theta], x=\"n\", y=\"Time_Total\", hue=\"setting\", marker='o', ax=axes[0,i])\n",
    "#         axes[0,i].set(ylabel='Total Time (sec)', xscale='log', yscale='log')\n",
    "    for i, theta in zip(range(5), [0.6, 0.7, 0.8, 0.9, 1.0]):\n",
    "        sb.lineplot(data=df[df.theta==theta], x=\"nr\", y=\"Time_SearchPerQuery_MEAN\", hue=\"setting\", marker='o', ax=axes[i])\n",
    "        axes[i].set(ylabel='Mean query time (s)', xscale='log', yscale='log', title='theta=%.1f'%theta)\n",
    "        if i == 4: axes[i].legend(loc='center left', bbox_to_anchor=(1, 0.5))\n",
    "        else: axes[i].get_legend().remove()"
   ]
  },
  {
   "cell_type": "code",
   "execution_count": null,
   "metadata": {},
   "outputs": [],
   "source": [
    "def compare_alg(alg0_name, alg1_name):\n",
    "    aid0 = dict_alg[alg0_name]\n",
    "    aid1 = dict_alg[alg1_name]\n",
    "    predicates = ' '.join(['AND (algorithm_id={} OR algorithm_id={})'.format(aid0, aid1)])\n",
    "    query = query_tmpl.format(predicates)\n",
    "    output_list = []\n",
    "    for row in execute_query(query):\n",
    "        dict_param = str2dict(row['parameter'])\n",
    "        dict_rslt = str2dict(row['result'])\n",
    "        bLF, bPF = map(lambda x: x == 'true', [dict_param[key] for key in ['bLF', 'bPF']])\n",
    "        idx_impl = dict_param['index_impl']\n",
    "\n",
    "        output = {}\n",
    "        output['dataset'] = dict_rslt['Dataset_Name']\n",
    "        output['size'] = dict_rslt['Dataset_Name']\n",
    "        output['alg'] = dict_rslt['Alg_Name']+'_'+dict_rslt['Alg_Version']\n",
    "        output['theta'] = float(dict_param['theta'])\n",
    "        output['setting'] = get_setting_label(bLF, bPF, idx_impl)\n",
    "        if output['setting'] is None: continue\n",
    "        output['Time_Total'] = float(dict_rslt['Time_Total'])/1000\n",
    "        output['Time_Search'] = (float(dict_rslt['Time_TSTotal']) + float(dict_rslt['Time_QSTotal']))/1000\n",
    "        output['Num_Verified'] = int(dict_rslt['Num_QS_Verified']) + int(dict_rslt['Num_TS_Verified'])\n",
    "        output['Num_QS_Result'] = int(dict_rslt['Num_QS_Result'])\n",
    "        output['Num_TS_Result'] = int(dict_rslt['Num_TS_Result'])\n",
    "        \n",
    "        output_list.append(output)\n",
    "    df = pd.DataFrame.from_dict(output_list)\n",
    "    df.setting = pd.Categorical(df.setting, categories=['NoFilter', 'IF', 'ICF', 'NoIndex', 'NaivePF', 'IPF', 'LF', 'PF'])\n",
    "    \n",
    "    df0 = df[df.alg==alg0_name].drop(['alg'], axis=1)\n",
    "    df1 = df[df.alg==alg1_name].drop(['alg'], axis=1)\n",
    "    df_merged = pd.merge(df0, df1, on=['dataset', 'size', 'theta', 'setting'], how='outer', suffixes=['_0','_1'])\n",
    "    df_merged['diff_Time'] = df_merged['Time_Total_0'] - df_merged['Time_Total_1']\n",
    "    df_merged['diff_Time_ratio'] = (df_merged['Time_Total_0'] - df_merged['Time_Total_1'])/df_merged['Time_Total_0']\n",
    "    df_merged['diff_Time_Search'] = df_merged['Time_Search_0'] - df_merged['Time_Search_1']\n",
    "    df_merged['diff_Time_Search_ratio'] = (df_merged['Time_Search_0'] - df_merged['Time_Search_1'])/df_merged['Time_Search_0']\n",
    "    df_merged['diff_Verify'] = df_merged['Num_Verified_0'] - df_merged['Num_Verified_1']\n",
    "    df_merged['diff_Verify_ratio'] = (df_merged['Num_Verified_0'] - df_merged['Num_Verified_1'])/df_merged['Num_Verified_0']\n",
    "    df_merged['diff_QS_Result'] = df_merged['Num_QS_Result_0'] - df_merged['Num_QS_Result_1']\n",
    "    df_merged['diff_TS_Result'] = df_merged['Num_TS_Result_0'] - df_merged['Num_TS_Result_1']\n",
    "    print('diff_Time:',df_merged['diff_Time'].mean())\n",
    "    print('diff_Time_ratio:',df_merged['diff_Time_ratio'].mean())\n",
    "    print('diff_Time_Search:',df_merged['diff_Time_Search'].mean())\n",
    "    print('diff_Time_Search_ratio:',df_merged['diff_Time_Search_ratio'].mean())\n",
    "    print('diff_Verify:',df_merged['diff_Verify'].mean())\n",
    "    print('diff_Verify_ratio:',df_merged['diff_Verify_ratio'].mean())\n",
    "    print('diff_QS_Result:',df_merged['diff_QS_Result'].mean())\n",
    "    print('diff_TS_Result:',df_merged['diff_TS_Result'].mean())\n",
    "    df_merged = df_merged.reindex(sorted(df_merged.columns), axis=1)\n",
    "    return df_merged"
   ]
  }
 ],
 "metadata": {
  "kernelspec": {
   "display_name": "Python 3",
   "language": "python",
   "name": "python3"
  },
  "language_info": {
   "codemirror_mode": {
    "name": "ipython",
    "version": 3
   },
   "file_extension": ".py",
   "mimetype": "text/x-python",
   "name": "python",
   "nbconvert_exporter": "python",
   "pygments_lexer": "ipython3",
   "version": "3.7.1"
  }
 },
 "nbformat": 4,
 "nbformat_minor": 2
}
